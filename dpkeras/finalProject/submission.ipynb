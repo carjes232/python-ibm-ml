{
 "cells": [
  {
   "cell_type": "markdown",
   "id": "76e4d33c",
   "metadata": {},
   "source": [
    "Task 1"
   ]
  },
  {
   "cell_type": "code",
   "execution_count": null,
   "id": "15fcb866",
   "metadata": {},
   "outputs": [],
   "source": [
    "valid_generator =  valid_datagen.flow_from_directory(\n",
    "    directory=valid_dir,\n",
    "    class_mode='binary',\n",
    "    seed=seed_value,\n",
    "    batch_size=batch_size,\n",
    "    shuffle=False,\n",
    "    target_size= (img_rows, img_cols)\n",
    ")\n",
    "# Found 96 images belonging to 2 classes."
   ]
  },
  {
   "cell_type": "code",
   "execution_count": null,
   "id": "8f8caa2e",
   "metadata": {},
   "outputs": [],
   "source": [
    "#Task2\n",
    "\n",
    "test_generator =  test_datagen.flow_from_directory(\n",
    "    directory=test_dir,\n",
    "    class_mode='binary',\n",
    "    seed=seed_value,\n",
    "    batch_size=batch_size,\n",
    "    shuffle=False,\n",
    "    target_size= (img_rows, img_cols)\n",
    ")\n",
    "# Found 50 images belonging to 2 classes."
   ]
  },
  {
   "cell_type": "code",
   "execution_count": null,
   "id": "05d68cd1",
   "metadata": {},
   "outputs": [],
   "source": [
    "# task 3 \n",
    "base_model = VGG16(weights='imagenet',include_top=False,input_shape=(img_rows, img_cols, 3))\n",
    "# Downloading data from https://storage.googleapis.com/tensorflow/keras-applications/vgg16/vgg16_weights_tf_dim_ordering_tf_kernels_notop.h5\n",
    "# 58889256/58889256 ━━━━━━━━━━━━━━━━━━━━ 0s 0us/step"
   ]
  },
  {
   "cell_type": "code",
   "execution_count": null,
   "id": "d0db9fa4",
   "metadata": {},
   "outputs": [],
   "source": [
    "#task 4\n",
    "model.compile(\n",
    "    optimizer=Adam(learning_rate=0.0001),\n",
    "    loss='binary_crossentropy',\n",
    "    metrics=['accuracy']\n",
    ")"
   ]
  },
  {
   "cell_type": "code",
   "execution_count": null,
   "id": "35039d35",
   "metadata": {},
   "outputs": [],
   "source": [
    "#task5\n",
    "history = model.fit(\n",
    "    train_generator,  # Fill in with the training data generator or dataset\n",
    "    epochs=n_epochs,  # Fill in with the number of epochs for training\n",
    "    validation_data=valid_generator,  # Fill in with the validation data generator or dataset\n",
    "   \n",
    ")"
   ]
  },
  {
   "cell_type": "code",
   "execution_count": null,
   "id": "97f8b279",
   "metadata": {},
   "outputs": [],
   "source": [
    "#task 6 \n",
    "plt.figure(figsize=(5, 5))\n",
    "plt.title(\"Accuracy Curve\")\n",
    "plt.ylabel(\"Accuracy\")\n",
    "plt.xlabel(\"Epochs\")\n",
    "plt.plot(train_history['accuracy'], label='Training Accuracy')\n",
    "plt.plot(train_history['val_accuracy'], label='Validation Accuracy')\n",
    "plt.show()"
   ]
  },
  {
   "cell_type": "code",
   "execution_count": null,
   "id": "e48a01af",
   "metadata": {},
   "outputs": [],
   "source": [
    "#task7\n",
    "test_model_on_image(test_generator, model, index_to_plot=1)"
   ]
  },
  {
   "cell_type": "code",
   "execution_count": null,
   "id": "0d56aee1",
   "metadata": {},
   "outputs": [],
   "source": [
    "#task8\n",
    "def generate_text(image_path, task):\n",
    "    model = BlipCaptionSummaryLayer(processor, model)\n",
    "    res = model(image_path, task)\n",
    "    return res"
   ]
  },
  {
   "cell_type": "code",
   "execution_count": null,
   "id": "eccecc8a",
   "metadata": {},
   "outputs": [],
   "source": [
    "#task9\n",
    "# Generate a caption for the image\n",
    "caption = generate_text(image_path, tf.constant(\"caption\"))\n",
    "# Decode and print the generated caption\n",
    "print(\"Caption:\", caption.numpy().decode(\"utf-8\"))\n",
    "\n",
    "#Caption: this is a picture of a plane that was sitting on the ground in a field"
   ]
  },
  {
   "cell_type": "code",
   "execution_count": null,
   "id": "5f560dc1",
   "metadata": {},
   "outputs": [],
   "source": [
    "#task10\n",
    "# Generate a summary for the image\n",
    "summary = generate_text(image_path, tf.constant(\"summary\"))\n",
    "# Decode and print the generated summary\n",
    "print(\"Summary:\", summary.numpy().decode(\"utf-8\"))\n",
    "#Summary: this is a detailed photo showing the damage to the fuselage of the aircraft\n"
   ]
  }
 ],
 "metadata": {
  "language_info": {
   "name": "python"
  }
 },
 "nbformat": 4,
 "nbformat_minor": 5
}
