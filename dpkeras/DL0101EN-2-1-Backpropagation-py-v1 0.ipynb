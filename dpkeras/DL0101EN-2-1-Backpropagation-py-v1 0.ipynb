{
  "cells": [
    {
      "cell_type": "markdown",
      "metadata": {},
      "source": [
        "<a href=\"https://cognitiveclass.ai\"><img src=\"https://cf-courses-data.s3.us.cloud-object-storage.appdomain.cloud/IBMDeveloperSkillsNetwork-DL0101EN-SkillsNetwork/images/IDSN-logo.png\" width=\"400\"> </a>\n",
        "\n",
        "# BackPropagation\n",
        "\n",
        "Estimated time needed: **30** mins\n"
      ]
    },
    {
      "cell_type": "markdown",
      "metadata": {},
      "source": [
        "Backpropagation is the key algorithm used for training neural networks, allowing them to learn from data. It is based on the gradient descent optimization technique and works by iteratively adjusting the weights and biases of the network to minimize the error between the predicted and actual outputs.\n",
        " In this lab, we will create a neural network to implement backpropagation for a XOR problem.\n"
      ]
    },
    {
      "cell_type": "markdown",
      "metadata": {},
      "source": [
        "# Objective for this notebook\n",
        "\n",
        "* Train a Neural Network to Solve the XOR Problem\n",
        "* Implement Backpropagation for Neural Network Training\n",
        "* Demonstrate the Use of Activation Functions\n",
        "* Understand the Learning Process Over Multiple Epochs\n",
        "* Demonstrate Weight and Bias Adjustments via Gradient Descent\n",
        "* Evaluate the Model's Performance After Training\n",
        "* Monitor and Analyze the Training Process\n"
      ]
    },
    {
      "cell_type": "markdown",
      "metadata": {},
      "source": [
        "<h2>Table of Contents</h2>\n",
        "\n",
        "\n",
        "<div class=\"alert alert-block alert-info\" style=\"margin-top: 20px\">\n",
        "\n",
        "<font size = 4>\n",
        "1. <a href=\"#Import-Required-Libraries\">Import Required Libraries</a><br>\n",
        "2. <a href=\"#Initialize-Inputs\">Initialize Inputs</a><br>\n",
        "3. <a href=\"#Declare-the-network-parameters\">Declare the network parameters</a><br>\n",
        "4. <a href=\"#Define-the-weights\">Define the weights</a><br>  \n",
        "5. <a href=\"#Training-the-Neural-Network\">Training the Neural Network</a><br>  \n",
        "6. <a href=\"#Testing-the-Network\">Testing the Network</a><br>  \n",
        "7. <a href=\"#Plot-the-error\">Plot the error</a><br>  \n",
        "\n",
        "</font>\n",
        "</div>\n"
      ]
    },
    {
      "cell_type": "code",
      "execution_count": 2,
      "metadata": {},
      "outputs": [
        {
          "name": "stdout",
          "output_type": "stream",
          "text": [
            "Requirement already satisfied: numpy==1.26.4 in /home/carjes/ibmai/python-ibm-ml/.venv/lib/python3.12/site-packages (1.26.4)\n",
            "Collecting matplotlib==3.5.2\n",
            "  Downloading matplotlib-3.5.2.tar.gz (35.2 MB)\n",
            "\u001b[2K     \u001b[90m━━━━━━━━━━━━━━━━━━━━━━━━━━━━━━━━━━━━━━━━\u001b[0m \u001b[32m35.2/35.2 MB\u001b[0m \u001b[31m6.1 MB/s\u001b[0m eta \u001b[36m0:00:00\u001b[0m00:01\u001b[0m00:01\u001b[0m\n",
            "\u001b[?25h  Installing build dependencies ... \u001b[?25ldone\n",
            "\u001b[?25h  Getting requirements to build wheel ... \u001b[?25ldone\n",
            "\u001b[?25h  Installing backend dependencies ... \u001b[?25ldone\n",
            "\u001b[?25h  Preparing metadata (pyproject.toml) ... \u001b[?25ldone\n",
            "\u001b[?25hCollecting cycler>=0.10 (from matplotlib==3.5.2)\n",
            "  Using cached cycler-0.12.1-py3-none-any.whl.metadata (3.8 kB)\n",
            "Collecting fonttools>=4.22.0 (from matplotlib==3.5.2)\n",
            "  Using cached fonttools-4.59.2-cp312-cp312-manylinux1_x86_64.manylinux2014_x86_64.manylinux_2_17_x86_64.manylinux_2_5_x86_64.whl.metadata (109 kB)\n",
            "Collecting kiwisolver>=1.0.1 (from matplotlib==3.5.2)\n",
            "  Using cached kiwisolver-1.4.9-cp312-cp312-manylinux2014_x86_64.manylinux_2_17_x86_64.whl.metadata (6.3 kB)\n",
            "Requirement already satisfied: numpy>=1.17 in /home/carjes/ibmai/python-ibm-ml/.venv/lib/python3.12/site-packages (from matplotlib==3.5.2) (1.26.4)\n",
            "Requirement already satisfied: packaging>=20.0 in /home/carjes/ibmai/python-ibm-ml/.venv/lib/python3.12/site-packages (from matplotlib==3.5.2) (25.0)\n",
            "Collecting pillow>=6.2.0 (from matplotlib==3.5.2)\n",
            "  Using cached pillow-11.3.0-cp312-cp312-manylinux_2_27_x86_64.manylinux_2_28_x86_64.whl.metadata (9.0 kB)\n",
            "Collecting pyparsing>=2.2.1 (from matplotlib==3.5.2)\n",
            "  Using cached pyparsing-3.2.3-py3-none-any.whl.metadata (5.0 kB)\n",
            "Requirement already satisfied: python-dateutil>=2.7 in /home/carjes/ibmai/python-ibm-ml/.venv/lib/python3.12/site-packages (from matplotlib==3.5.2) (2.9.0.post0)\n",
            "Requirement already satisfied: six>=1.5 in /home/carjes/ibmai/python-ibm-ml/.venv/lib/python3.12/site-packages (from python-dateutil>=2.7->matplotlib==3.5.2) (1.17.0)\n",
            "Using cached cycler-0.12.1-py3-none-any.whl (8.3 kB)\n",
            "Using cached fonttools-4.59.2-cp312-cp312-manylinux1_x86_64.manylinux2014_x86_64.manylinux_2_17_x86_64.manylinux_2_5_x86_64.whl (4.9 MB)\n",
            "Using cached kiwisolver-1.4.9-cp312-cp312-manylinux2014_x86_64.manylinux_2_17_x86_64.whl (1.5 MB)\n",
            "Using cached pillow-11.3.0-cp312-cp312-manylinux_2_27_x86_64.manylinux_2_28_x86_64.whl (6.6 MB)\n",
            "Using cached pyparsing-3.2.3-py3-none-any.whl (111 kB)\n",
            "Building wheels for collected packages: matplotlib\n",
            "  Building wheel for matplotlib (pyproject.toml) ... \u001b[?25ldone\n",
            "\u001b[?25h  Created wheel for matplotlib: filename=matplotlib-3.5.2-cp312-cp312-linux_x86_64.whl size=11103143 sha256=b280287a1befabec487d028ff617b547f5486a4404fd068ab42a26f6d3dc9593\n",
            "  Stored in directory: /home/carjes/.cache/pip/wheels/97/5d/e1/f7559183db24dbb009d1693f5bfec8c2ceba4b8ffcc19aba47\n",
            "Successfully built matplotlib\n",
            "Installing collected packages: pyparsing, pillow, kiwisolver, fonttools, cycler, matplotlib\n",
            "Successfully installed cycler-0.12.1 fonttools-4.59.2 kiwisolver-1.4.9 matplotlib-3.5.2 pillow-11.3.0 pyparsing-3.2.3\n"
          ]
        }
      ],
      "source": [
        "# All Libraries required for this lab are listed below. The libraries pre-installed on Skills Network Labs are commented. \n",
        "# If you run this notebook on a different environment, e.g., your desktop, you may need to uncomment and install certain libraries.\n",
        "\n",
        "!pip install numpy==1.26.4\n",
        "!pip install matplotlib==3.5.2"
      ]
    },
    {
      "cell_type": "markdown",
      "metadata": {},
      "source": [
        "## Import Required Libraries\n"
      ]
    },
    {
      "cell_type": "code",
      "execution_count": 3,
      "metadata": {},
      "outputs": [],
      "source": [
        "# Importing the required library\n",
        "import numpy as np\n",
        "import matplotlib.pyplot as plt"
      ]
    },
    {
      "cell_type": "markdown",
      "metadata": {},
      "source": [
        "## Initialize Inputs\n",
        "Define the input and expected output for a XOR gate problem\n"
      ]
    },
    {
      "cell_type": "code",
      "execution_count": 4,
      "metadata": {},
      "outputs": [],
      "source": [
        "# Defining inputs and expected output (XOR truth table)\n",
        "X = np.array([[0, 0], [0, 1], [1, 0], [1, 1]]).T  # 2x4 matrix, each column is a training example\n",
        "d = np.array([0, 1, 1, 0])  # Expected output for XOR"
      ]
    },
    {
      "cell_type": "markdown",
      "metadata": {},
      "source": [
        "# Declare the network parameters & the weights\n",
        "\n",
        "Define the network parameters such as\n",
        "1. number of input neurons\n",
        "2. hidden layer neurons\n",
        "3. output neurons\n",
        "4. learning rate\n",
        "5. number of epochs\n",
        "\n",
        "Also, Declare the weights for the neurons. The initial weights are taken as random numbers which are then optimized by the backpropagation algorithm inside a function parameter `initialize_network_parameters()`\n"
      ]
    },
    {
      "cell_type": "code",
      "execution_count": 11,
      "metadata": {},
      "outputs": [],
      "source": [
        "def initialize_network_parameters():\n",
        "    # Network parameters\n",
        "    inputSize = 2      # Number of input neurons (x1, x2)\n",
        "    hiddenSize = 2     # Number of hidden neurons\n",
        "    outputSize = 1     # Number of output neurons\n",
        "    lr = 0.01           # Learning rate\n",
        "    epochs = 1000000    # Number of training epochs\n",
        "\n",
        "    # Initialize weights and biases randomly within the range [-1, 1]\n",
        "    w1 = np.random.rand(hiddenSize, inputSize) * 2 - 1  # Weights from input to hidden layer\n",
        "    b1 = np.random.rand(hiddenSize, 1) * 2 - 1          # Bias for hidden layer\n",
        "    w2 = np.random.rand(outputSize, hiddenSize) * 2 - 1 # Weights from hidden to output layer\n",
        "    b2 = np.random.rand(outputSize, 1) * 2 - 1          # Bias for output layer\n",
        "\n",
        "    return w1, b1, w2, b2, lr, epochs\n"
      ]
    },
    {
      "cell_type": "markdown",
      "metadata": {},
      "source": [
        "## Training the Neural Network\n",
        "\n",
        "The neural network works in 5 stages: \n",
        "1. Forward pass\n",
        "    * The input **X** is multiplied by the weights **w1** and passed through the first layer, followed by the application of the sigmoid or ReLU activation function. This gives the output for the hidden layer.\n",
        "    * The output of the hidden layer is then passed through the second set of weights **w2** to compute the final output. Again, a sigmoid activation function is used to generate the final output **a2**.\n",
        "    \n",
        "2. Error calculation\n",
        "    * The error is computed as the difference between the expected output **(d)** and the actual output **(a2)**.\n",
        "3. Backward pass\n",
        "    * **Output Layer**: The derivative of the sigmoid activation function is applied to the error, producing the gradient for the output layer **(da2)**. This is used to calculate how much the weights in the output layer need to be adjusted.\n",
        "    * **Hidden Layer**: The error is then propagated backward to the hidden layer. The gradient at the hidden layer **(da1)** is computed by taking the dot product of the transpose of the weights **(w2.T)** and the gradient from the output layer. The derivative of the activation function (sigmoid or ReLU) is used to adjust this error.\n",
        "4. Weights and bias updates\n",
        "    * After computing the **gradients (dz1, dz2)**, the **weights (w1, w2)** and **biases (b1, b2)** are updated using the **learning rate (lr)** and **the gradients**. The updates are done to minimize the error and improve the model’s predictions.\n",
        "5. Training:\n",
        "    * This entire process is repeated over many iterations **(epochs)**. During each epoch, the model adjusts its weights and biases to reduce the error. Over time, the network learns to approximate the XOR function.\n",
        "Forward Pass:\n",
        "\n"
      ]
    },
    {
      "cell_type": "code",
      "execution_count": 7,
      "metadata": {},
      "outputs": [
        {
          "name": "stdout",
          "output_type": "stream",
          "text": [
            "Epoch: 9999, Average error: 0.05344\n",
            "Epoch: 19999, Average error: 0.03028\n",
            "Epoch: 29999, Average error: 0.02313\n",
            "Epoch: 39999, Average error: 0.01938\n",
            "Epoch: 49999, Average error: 0.01698\n",
            "Epoch: 59999, Average error: 0.01528\n",
            "Epoch: 69999, Average error: 0.01401\n",
            "Epoch: 79999, Average error: 0.01300\n",
            "Epoch: 89999, Average error: 0.01218\n",
            "Epoch: 99999, Average error: 0.01149\n",
            "Epoch: 109999, Average error: 0.01091\n",
            "Epoch: 119999, Average error: 0.01041\n",
            "Epoch: 129999, Average error: 0.00997\n",
            "Epoch: 139999, Average error: 0.00958\n",
            "Epoch: 149999, Average error: 0.00923\n",
            "Epoch: 159999, Average error: 0.00892\n",
            "Epoch: 169999, Average error: 0.00863\n",
            "Epoch: 179999, Average error: 0.00837\n"
          ]
        }
      ],
      "source": [
        "# Get initialized parameters\n",
        "w1, b1, w2, b2, lr, epochs = initialize_network_parameters()\n",
        "\n",
        "# Training the network using backpropagation\n",
        "error_list = []\n",
        "for epoch in range(epochs):\n",
        "    # Forward pass\n",
        "    z1 = np.dot(w1, X) + b1  # Weighted sum for hidden layer\n",
        "    a1 = 1 / (1 + np.exp(-z1))  # Sigmoid activation for hidden layer\n",
        "\n",
        "    z2 = np.dot(w2, a1) + b2  # Weighted sum for output layer\n",
        "    a2 = 1 / (1 + np.exp(-z2))  # Sigmoid activation for output layer\n",
        "\n",
        "    # Error calculation and backpropagation\n",
        "    error = d - a2  # Difference between expected and actual output\n",
        "    da2 = error * (a2 * (1 - a2))  # Derivative for output layer\n",
        "    dz2 = da2  # Gradient for output layer\n",
        "\n",
        "    # Propagate error to hidden layer\n",
        "    da1 = np.dot(w2.T, dz2)  # Gradient for hidden layer\n",
        "    dz1 = da1 * (a1 * (1 - a1))  # Derivative for hidden layer\n",
        "\n",
        "    # Update weights and biases\n",
        "    w2 += lr * np.dot(dz2, a1.T)  # Update weights from hidden to output layer\n",
        "    b2 += lr * np.sum(dz2, axis=1, keepdims=True)  # Update bias for output layer\n",
        "\n",
        "    w1 += lr * np.dot(dz1, X.T)  # Update weights from input to hidden layer\n",
        "    b1 += lr * np.sum(dz1, axis=1, keepdims=True)  # Update bias for hidden layer\n",
        "    if (epoch+1)%10000 == 0:\n",
        "        print(\"Epoch: %d, Average error: %0.05f\"%(epoch, np.average(abs(error))))\n",
        "        error_list.append(np.average(abs(error)))"
      ]
    },
    {
      "cell_type": "markdown",
      "metadata": {},
      "source": [
        "## Testing the Network\n",
        "After training, you can now test the neural network to verify that it has learned the XOR function and outputs the correct values close to [0, 1, 1, 0]\n"
      ]
    },
    {
      "cell_type": "code",
      "execution_count": 8,
      "metadata": {},
      "outputs": [
        {
          "name": "stdout",
          "output_type": "stream",
          "text": [
            "Final output after training: [[0.00841495 0.9920689  0.99036711 0.00751949]]\n",
            "Ground truth [0 1 1 0]\n",
            "Error after training: [[-0.00841497  0.00793113  0.00963291 -0.00751952]]\n",
            "Average error: 0.00837\n"
          ]
        }
      ],
      "source": [
        "# Testing the trained network\n",
        "z1 = np.dot(w1, X) + b1  # Weighted sum for hidden layer\n",
        "a1 = 1 / (1 + np.exp(-z1))  # Sigmoid activation for hidden layer\n",
        "\n",
        "z2 = np.dot(w2, a1) + b2  # Weighted sum for output layer\n",
        "a2 = 1 / (1 + np.exp(-z2))  # Sigmoid activation for output layer\n",
        "\n",
        "# Print results\n",
        "print('Final output after training:', a2)\n",
        "print('Ground truth', d)\n",
        "print('Error after training:', error)\n",
        "print('Average error: %0.05f'%np.average(abs(error)))\n",
        "\n"
      ]
    },
    {
      "cell_type": "markdown",
      "metadata": {},
      "source": [
        "## Plot the error\n",
        "Here, we plot the error as a function of epochs. This shows how error changed over multiple iterations of forward and backward passes and how the network learnt over time\n"
      ]
    },
    {
      "cell_type": "code",
      "execution_count": 9,
      "metadata": {},
      "outputs": [
        {
          "data": {
            "image/png": "[encoded data removed]",
            "text/plain": [
              "<Figure size 640x480 with 1 Axes>"
            ]
          },
          "metadata": {},
          "output_type": "display_data"
        }
      ],
      "source": [
        "# Plot error\n",
        "plt.plot(error_list)\n",
        "plt.title('Error')\n",
        "plt.xlabel('Epochs')\n",
        "plt.ylabel('Error')\n",
        "plt.show()"
      ]
    },
    {
      "cell_type": "markdown",
      "metadata": {},
      "source": [
        "# Practice exercise 1\n"
      ]
    },
    {
      "cell_type": "markdown",
      "metadata": {},
      "source": [
        "Implement backpropagation for **AND problem** using similar input as used for XOR problem above and plot the error\n"
      ]
    },
    {
      "cell_type": "code",
      "execution_count": null,
      "metadata": {},
      "outputs": [
        {
          "name": "stdout",
          "output_type": "stream",
          "text": [
            "Epoch: 9999, Average error: 0.02836\n",
            "Epoch: 19999, Average error: 0.01820\n",
            "Epoch: 29999, Average error: 0.01429\n",
            "Epoch: 39999, Average error: 0.01211\n",
            "Epoch: 49999, Average error: 0.01067\n",
            "Epoch: 59999, Average error: 0.00964\n",
            "Epoch: 69999, Average error: 0.00885\n",
            "Epoch: 79999, Average error: 0.00822\n",
            "Epoch: 89999, Average error: 0.00771\n",
            "Epoch: 99999, Average error: 0.00728\n",
            "Epoch: 109999, Average error: 0.00691\n",
            "Epoch: 119999, Average error: 0.00659\n",
            "Epoch: 129999, Average error: 0.00631\n",
            "Epoch: 139999, Average error: 0.00607\n",
            "Epoch: 149999, Average error: 0.00585\n",
            "Epoch: 159999, Average error: 0.00565\n",
            "Epoch: 169999, Average error: 0.00547\n",
            "Epoch: 179999, Average error: 0.00530\n",
            "Final output after training: [[3.65146930e-04 4.34772567e-03 6.81604656e-03 9.90313331e-01]]\n",
            "Ground truth [0 0 0 1]\n",
            "Error after training: [[-0.00036515 -0.00434774 -0.00681607  0.0096867 ]]\n",
            "Average error: 0.00530\n"
          ]
        },
        {
          "data": {
            "image/png": "[encoded data removed]",
            "text/plain": [
              "<Figure size 640x480 with 1 Axes>"
            ]
          },
          "metadata": {},
          "output_type": "display_data"
        }
      ],
      "source": [
        "# Defining inputs and expected output (XOR truth table)\n",
        "X = np.array([[0, 0], [0, 1], [1, 0], [1, 1]]).T  # 2x4 matrix, each column is a training example\n",
        "d = np.array([0, 0, 0, 1])  # Expected output for AND\n",
        "\n",
        "# Get initialized parameters\n",
        "w1, b1, w2, b2, lr, epochs = initialize_network_parameters()\n",
        "\n",
        "# Training the network using backpropagation\n",
        "error_list = []\n",
        "for epoch in range(epochs):\n",
        "    # Forward pass\n",
        "    z1 = np.dot(w1, X) + b1  # Weighted sum for hidden layer\n",
        "    a1 = 1 / (1 + np.exp(-z1))  # Sigmoid activation for hidden layer\n",
        "\n",
        "    z2 = np.dot(w2, a1) + b2  # Weighted sum for output layer\n",
        "    a2 = 1 / (1 + np.exp(-z2))  # Sigmoid activation for output layer\n",
        "\n",
        "    # Error calculation and backpropagation\n",
        "    error = d - a2  # Difference between expected and actual output\n",
        "    da2 = error * (a2 * (1 - a2))  # Derivative for output layer\n",
        "    dz2 = da2  # Gradient for output layer\n",
        "\n",
        "    # Propagate error to hidden layer\n",
        "    da1 = np.dot(w2.T, dz2)  # Gradient for hidden layer\n",
        "    dz1 = da1 * (a1 * (1 - a1))  # Derivative for hidden layer\n",
        "\n",
        "    # Update weights and biases\n",
        "    w2 += lr * np.dot(dz2, a1.T)  # Update weights from hidden to output layer\n",
        "    b2 += lr * np.sum(dz2, axis=1, keepdims=True)  # Update bias for output layer\n",
        "\n",
        "    w1 += lr * np.dot(dz1, X.T)  # Update weights from input to hidden layer\n",
        "    b1 += lr * np.sum(dz1, axis=1, keepdims=True)  # Update bias for hidden layer\n",
        "    if (epoch+1)%10000 == 0:\n",
        "        print(\"Epoch: %d, Average error: %0.05f\"%(epoch, np.average(abs(error))))\n",
        "        error_list.append(np.average(abs(error)))\n",
        "        \n",
        "# Testing the trained network\n",
        "z1 = np.dot(w1, X) + b1  # Weighted sum for hidden layer\n",
        "a1 = 1 / (1 + np.exp(-z1))  # Sigmoid activation for hidden layer\n",
        "\n",
        "z2 = np.dot(w2, a1) + b2  # Weighted sum for output layer\n",
        "a2 = 1 / (1 + np.exp(-z2))  # Sigmoid activation for output layer\n",
        "\n",
        "# Print results\n",
        "print('Final output after training:', a2)\n",
        "print('Ground truth', d)\n",
        "print('Error after training:', error)\n",
        "print('Average error: %0.05f'%np.average(abs(error)))\n",
        "# Plot error\n",
        "plt.plot(error_list)\n",
        "plt.title('Error')\n",
        "plt.xlabel('Epochs')\n",
        "plt.ylabel('Error')\n",
        "plt.show()\n"
      ]
    },
    {
      "cell_type": "markdown",
      "metadata": {},
      "source": [
        "Double-click <b>here</b> for the solution.\n",
        "\n",
        "<!-- Your answer is below:\n",
        "\n",
        "\n",
        "X = np.array([[0, 0], [0, 1], [1, 0], [1, 1]]).T  # 2x4 matrix, each column is a training example\n",
        "d = np.array([0, 0, 0, 1])  # Expected output for AND\n",
        "\n",
        "# Get initialized parameters\n",
        "w1, b1, w2, b2, lr, epochs = initialize_network_parameters()\n",
        "\n",
        "# Training the network using backpropagation\n",
        "error_list = []\n",
        "for epoch in range(epochs):\n",
        "    # Forward pass\n",
        "    z1 = np.dot(w1, X) + b1  # Weighted sum for hidden layer\n",
        "    a1 = 1 / (1 + np.exp(-z1))  # Sigmoid activation for hidden layer\n",
        "\n",
        "    z2 = np.dot(w2, a1) + b2  # Weighted sum for output layer\n",
        "    a2 = 1 / (1 + np.exp(-z2))  # Sigmoid activation for output layer\n",
        "\n",
        "    # Error calculation and backpropagation\n",
        "    error = d - a2  # Difference between expected and actual output\n",
        "    da2 = error * (a2 * (1 - a2))  # Derivative for output layer\n",
        "    dz2 = da2  # Gradient for output layer\n",
        "\n",
        "    # Propagate error to hidden layer\n",
        "    da1 = np.dot(w2.T, dz2)  # Gradient for hidden layer\n",
        "    dz1 = da1 * (a1 * (1 - a1))  # Derivative for hidden layer\n",
        "\n",
        "    # Update weights and biases\n",
        "    w2 += lr * np.dot(dz2, a1.T)  # Update weights from hidden to output layer\n",
        "    b2 += lr * np.sum(dz2, axis=1, keepdims=True)  # Update bias for output layer\n",
        "\n",
        "    w1 += lr * np.dot(dz1, X.T)  # Update weights from input to hidden layer\n",
        "    b1 += lr * np.sum(dz1, axis=1, keepdims=True)  # Update bias for hidden layer\n",
        "    if (epoch+1)%10000 == 0:\n",
        "        print(\"Epoch: %d, Average error: %0.05f\"%(epoch, np.average(abs(error))))\n",
        "        error_list.append(np.average(abs(error)))\n",
        "\n",
        "\n",
        "# Testing the trained network\n",
        "z1 = np.dot(w1, X) + b1  # Weighted sum for hidden layer\n",
        "a1 = 1 / (1 + np.exp(-z1))  # Sigmoid activation for hidden layer\n",
        "\n",
        "z2 = np.dot(w2, a1) + b2  # Weighted sum for output layer\n",
        "a2 = 1 / (1 + np.exp(-z2))  # Sigmoid activation for output layer\n",
        "\n",
        "# Print results\n",
        "print('\\nFinal output after training:', a2)\n",
        "print('Ground truth', d)\n",
        "print('Error after training:', error)\n",
        "print('Average error: %0.05f'%np.average(abs(error)))\n",
        "\n",
        "# Plot error\n",
        "plt.plot(error_list)\n",
        "plt.title('Error')\n",
        "plt.xlabel('Epochs')\n",
        "plt.ylabel('Error')\n",
        "plt.show()\n",
        "\n",
        "\n",
        "-->\n"
      ]
    },
    {
      "cell_type": "markdown",
      "metadata": {},
      "source": [
        "# Practice exercise 2\n"
      ]
    },
    {
      "cell_type": "markdown",
      "metadata": {},
      "source": [
        "Now, decrease the learning rate to 0.01 and increase the number of epochs to 1000000 and check the error for XOR gate\n"
      ]
    },
    {
      "cell_type": "code",
      "execution_count": 12,
      "metadata": {},
      "outputs": [
        {
          "name": "stdout",
          "output_type": "stream",
          "text": [
            "Epoch: 9999, Average error: 0.49920\n",
            "Epoch: 19999, Average error: 0.49488\n",
            "Epoch: 29999, Average error: 0.45402\n",
            "Epoch: 39999, Average error: 0.37225\n",
            "Epoch: 49999, Average error: 0.32679\n",
            "Epoch: 59999, Average error: 0.30534\n",
            "Epoch: 69999, Average error: 0.29391\n",
            "Epoch: 79999, Average error: 0.28690\n",
            "Epoch: 89999, Average error: 0.28215\n",
            "Epoch: 99999, Average error: 0.27871\n",
            "Epoch: 109999, Average error: 0.27608\n",
            "Epoch: 119999, Average error: 0.27401\n",
            "Epoch: 129999, Average error: 0.27232\n",
            "Epoch: 139999, Average error: 0.27091\n",
            "Epoch: 149999, Average error: 0.26972\n",
            "Epoch: 159999, Average error: 0.26870\n",
            "Epoch: 169999, Average error: 0.26781\n",
            "Epoch: 179999, Average error: 0.26702\n",
            "Epoch: 189999, Average error: 0.26632\n",
            "Epoch: 199999, Average error: 0.26570\n",
            "Epoch: 209999, Average error: 0.26513\n",
            "Epoch: 219999, Average error: 0.26462\n",
            "Epoch: 229999, Average error: 0.26416\n",
            "Epoch: 239999, Average error: 0.26373\n",
            "Epoch: 249999, Average error: 0.26333\n",
            "Epoch: 259999, Average error: 0.26297\n",
            "Epoch: 269999, Average error: 0.26263\n",
            "Epoch: 279999, Average error: 0.26232\n",
            "Epoch: 289999, Average error: 0.26202\n",
            "Epoch: 299999, Average error: 0.26175\n",
            "Epoch: 309999, Average error: 0.26149\n",
            "Epoch: 319999, Average error: 0.26124\n",
            "Epoch: 329999, Average error: 0.26101\n",
            "Epoch: 339999, Average error: 0.26080\n",
            "Epoch: 349999, Average error: 0.26059\n",
            "Epoch: 359999, Average error: 0.26040\n",
            "Epoch: 369999, Average error: 0.26021\n",
            "Epoch: 379999, Average error: 0.26004\n",
            "Epoch: 389999, Average error: 0.25987\n",
            "Epoch: 399999, Average error: 0.25971\n",
            "Epoch: 409999, Average error: 0.25955\n",
            "Epoch: 419999, Average error: 0.25941\n",
            "Epoch: 429999, Average error: 0.25927\n",
            "Epoch: 439999, Average error: 0.25913\n",
            "Epoch: 449999, Average error: 0.25900\n",
            "Epoch: 459999, Average error: 0.25888\n",
            "Epoch: 469999, Average error: 0.25876\n",
            "Epoch: 479999, Average error: 0.25864\n",
            "Epoch: 489999, Average error: 0.25853\n",
            "Epoch: 499999, Average error: 0.25842\n",
            "Epoch: 509999, Average error: 0.25832\n",
            "Epoch: 519999, Average error: 0.25822\n",
            "Epoch: 529999, Average error: 0.25812\n",
            "Epoch: 539999, Average error: 0.25803\n",
            "Epoch: 549999, Average error: 0.25794\n",
            "Epoch: 559999, Average error: 0.25785\n",
            "Epoch: 569999, Average error: 0.25776\n",
            "Epoch: 579999, Average error: 0.25768\n",
            "Epoch: 589999, Average error: 0.25760\n",
            "Epoch: 599999, Average error: 0.25752\n",
            "Epoch: 609999, Average error: 0.25745\n",
            "Epoch: 619999, Average error: 0.25737\n",
            "Epoch: 629999, Average error: 0.25730\n",
            "Epoch: 639999, Average error: 0.25723\n",
            "Epoch: 649999, Average error: 0.25717\n",
            "Epoch: 659999, Average error: 0.25710\n",
            "Epoch: 669999, Average error: 0.25704\n",
            "Epoch: 679999, Average error: 0.25697\n",
            "Epoch: 689999, Average error: 0.25691\n",
            "Epoch: 699999, Average error: 0.25685\n",
            "Epoch: 709999, Average error: 0.25679\n",
            "Epoch: 719999, Average error: 0.25674\n",
            "Epoch: 729999, Average error: 0.25668\n",
            "Epoch: 739999, Average error: 0.25663\n",
            "Epoch: 749999, Average error: 0.25657\n",
            "Epoch: 759999, Average error: 0.25652\n",
            "Epoch: 769999, Average error: 0.25647\n",
            "Epoch: 779999, Average error: 0.25642\n",
            "Epoch: 789999, Average error: 0.25637\n",
            "Epoch: 799999, Average error: 0.25633\n",
            "Epoch: 809999, Average error: 0.25628\n",
            "Epoch: 819999, Average error: 0.25623\n",
            "Epoch: 829999, Average error: 0.25619\n",
            "Epoch: 839999, Average error: 0.25615\n",
            "Epoch: 849999, Average error: 0.25610\n",
            "Epoch: 859999, Average error: 0.25606\n",
            "Epoch: 869999, Average error: 0.25602\n",
            "Epoch: 879999, Average error: 0.25598\n",
            "Epoch: 889999, Average error: 0.25594\n",
            "Epoch: 899999, Average error: 0.25590\n",
            "Epoch: 909999, Average error: 0.25586\n",
            "Epoch: 919999, Average error: 0.25582\n",
            "Epoch: 929999, Average error: 0.25579\n",
            "Epoch: 939999, Average error: 0.25575\n",
            "Epoch: 949999, Average error: 0.25572\n",
            "Epoch: 959999, Average error: 0.25568\n",
            "Epoch: 969999, Average error: 0.25565\n",
            "Epoch: 979999, Average error: 0.25561\n",
            "Epoch: 989999, Average error: 0.25558\n",
            "Epoch: 999999, Average error: 0.25555\n",
            "Final output after training: [[0.01171569 0.49969162 0.99002404 0.50018664]]\n",
            "Ground truth [0 1 1 0]\n",
            "Error after training: [[-0.01171569  0.50030838  0.00997597 -0.50018664]]\n",
            "Average error: 0.25555\n"
          ]
        },
        {
          "data": {
            "image/png": "[encoded data removed]",
            "text/plain": [
              "<Figure size 640x480 with 1 Axes>"
            ]
          },
          "metadata": {},
          "output_type": "display_data"
        }
      ],
      "source": [
        "# Defining inputs and expected output (XOR truth table)\n",
        "X = np.array([[0, 0], [0, 1], [1, 0], [1, 1]]).T  # 2x4 matrix, each column is a training example\n",
        "d = np.array([0, 1, 1, 0])  # Expected output for XOR\n",
        "\n",
        "# Get initialized parameters\n",
        "w1, b1, w2, b2, lr, epochs = initialize_network_parameters()\n",
        "\n",
        "# Training the network using backpropagation\n",
        "error_list = []\n",
        "for epoch in range(epochs):\n",
        "    # Forward pass\n",
        "    z1 = np.dot(w1, X) + b1  # Weighted sum for hidden layer\n",
        "    a1 = 1 / (1 + np.exp(-z1))  # Sigmoid activation for hidden layer\n",
        "\n",
        "    z2 = np.dot(w2, a1) + b2  # Weighted sum for output layer\n",
        "    a2 = 1 / (1 + np.exp(-z2))  # Sigmoid activation for output layer\n",
        "\n",
        "    # Error calculation and backpropagation\n",
        "    error = d - a2  # Difference between expected and actual output\n",
        "    da2 = error * (a2 * (1 - a2))  # Derivative for output layer\n",
        "    dz2 = da2  # Gradient for output layer\n",
        "\n",
        "    # Propagate error to hidden layer\n",
        "    da1 = np.dot(w2.T, dz2)  # Gradient for hidden layer\n",
        "    dz1 = da1 * (a1 * (1 - a1))  # Derivative for hidden layer\n",
        "\n",
        "    # Update weights and biases\n",
        "    w2 += lr * np.dot(dz2, a1.T)  # Update weights from hidden to output layer\n",
        "    b2 += lr * np.sum(dz2, axis=1, keepdims=True)  # Update bias for output layer\n",
        "\n",
        "    w1 += lr * np.dot(dz1, X.T)  # Update weights from input to hidden layer\n",
        "    b1 += lr * np.sum(dz1, axis=1, keepdims=True)  # Update bias for hidden layer\n",
        "    if (epoch+1)%10000 == 0:\n",
        "        print(\"Epoch: %d, Average error: %0.05f\"%(epoch, np.average(abs(error))))\n",
        "        error_list.append(np.average(abs(error)))\n",
        "        \n",
        "# Testing the trained network\n",
        "z1 = np.dot(w1, X) + b1  # Weighted sum for hidden layer\n",
        "a1 = 1 / (1 + np.exp(-z1))  # Sigmoid activation for hidden layer\n",
        "\n",
        "z2 = np.dot(w2, a1) + b2  # Weighted sum for output layer\n",
        "a2 = 1 / (1 + np.exp(-z2))  # Sigmoid activation for output layer\n",
        "\n",
        "# Print results\n",
        "print('Final output after training:', a2)\n",
        "print('Ground truth', d)\n",
        "print('Error after training:', error)\n",
        "print('Average error: %0.05f'%np.average(abs(error)))\n",
        "# Plot error\n",
        "plt.plot(error_list)\n",
        "plt.title('Error')\n",
        "plt.xlabel('Epochs')\n",
        "plt.ylabel('Error')\n",
        "plt.show()\n"
      ]
    },
    {
      "cell_type": "markdown",
      "metadata": {},
      "source": [
        "Double-click <b>here</b> for the solution.\n",
        "\n",
        "<!-- Your answer is below:\n",
        "\n",
        "lr = 0.01         # Learning rate\n",
        "epochs = 1000000   # Number of training epochs\n",
        "\n",
        "\n",
        "# Defining inputs and expected output (XOR truth table)\n",
        "X = np.array([[0, 0], [0, 1], [1, 0], [1, 1]]).T  # 2x4 matrix, each column is a training example\n",
        "d = np.array([0, 1, 1, 0])  # Expected output for XOR\n",
        "\n",
        "# Get initialized parameters\n",
        "w1, b1, w2, b2, lr, epochs = initialize_network_parameters()\n",
        "\n",
        "# Training the network using backpropagation\n",
        "error_list = []\n",
        "for epoch in range(epochs):\n",
        "    # Forward pass\n",
        "    z1 = np.dot(w1, X) + b1  # Weighted sum for hidden layer\n",
        "    a1 = 1 / (1 + np.exp(-z1))  # Sigmoid activation for hidden layer\n",
        "\n",
        "    z2 = np.dot(w2, a1) + b2  # Weighted sum for output layer\n",
        "    a2 = 1 / (1 + np.exp(-z2))  # Sigmoid activation for output layer\n",
        "\n",
        "    # Error calculation and backpropagation\n",
        "    error = d - a2  # Difference between expected and actual output\n",
        "    da2 = error * (a2 * (1 - a2))  # Derivative for output layer\n",
        "    dz2 = da2  # Gradient for output layer\n",
        "\n",
        "    # Propagate error to hidden layer\n",
        "    da1 = np.dot(w2.T, dz2)  # Gradient for hidden layer\n",
        "    dz1 = da1 * (a1 * (1 - a1))  # Derivative for hidden layer\n",
        "\n",
        "    # Update weights and biases\n",
        "    w2 += lr * np.dot(dz2, a1.T)  # Update weights from hidden to output layer\n",
        "    b2 += lr * np.sum(dz2, axis=1, keepdims=True)  # Update bias for output layer\n",
        "\n",
        "    w1 += lr * np.dot(dz1, X.T)  # Update weights from input to hidden layer\n",
        "    b1 += lr * np.sum(dz1, axis=1, keepdims=True)  # Update bias for hidden layer\n",
        "    if (epoch+1)%10000 == 0:\n",
        "        print(\"Epoch: %d, Average error: %0.05f\"%(epoch, np.average(abs(error))))\n",
        "        error_list.append(np.average(abs(error)))\n",
        "\n",
        "\n",
        "# Testing the trained network\n",
        "z1 = np.dot(w1, X) + b1  # Weighted sum for hidden layer\n",
        "a1 = 1 / (1 + np.exp(-z1))  # Sigmoid activation for hidden layer\n",
        "\n",
        "z2 = np.dot(w2, a1) + b2  # Weighted sum for output layer\n",
        "a2 = 1 / (1 + np.exp(-z2))  # Sigmoid activation for output layer\n",
        "\n",
        "# Print results\n",
        "print('\\nFinal output after training:', a2)\n",
        "print('Ground truth', d)\n",
        "print('Error after training:', error)\n",
        "print('Average error: %0.05f'%np.average(abs(error)))\n",
        "\n",
        "\n",
        "# Plot error\n",
        "plt.plot(error_list)\n",
        "plt.title('Error')\n",
        "plt.xlabel('Epochs')\n",
        "plt.ylabel('Error')\n",
        "plt.show()\n",
        "\n",
        "\n",
        "-->\n"
      ]
    },
    {
      "cell_type": "markdown",
      "metadata": {},
      "source": [
        "## Thank you for completing this lab!\n",
        "\n",
        "This notebook was created by [Aman Aggarwal](https://www.linkedin.com/in/aggarwal-aman/). I hope you found this lab interesting and educational. Feel free to contact me if you have any questions!\n"
      ]
    },
    {
      "cell_type": "markdown",
      "metadata": {},
      "source": [
        "\n",
        "<!--\n",
        "## Change Log\n",
        "\n",
        "|  Date (YYYY-MM-DD) |  Version | Changed By  |  Change Description |\n",
        "|---|---|---|---|\n",
        "| 2024-11-20  | 1.0  | Aman  |  Created the lab |\n",
        "<hr>\n",
        "\n",
        "## <h3 align=\"center\"> © IBM Corporation. All rights reserved. <h3/>\n"
      ]
    },
    {
      "cell_type": "markdown",
      "metadata": {},
      "source": [
        "## <h3 align=\"center\"> &#169; IBM Corporation. All rights reserved. <h3/>\n"
      ]
    }
  ],
  "metadata": {
    "kernelspec": {
      "display_name": ".venv",
      "language": "python",
      "name": "python3"
    },
    "language_info": {
      "codemirror_mode": {
        "name": "ipython",
        "version": 3
      },
      "file_extension": ".py",
      "mimetype": "text/x-python",
      "name": "python",
      "nbconvert_exporter": "python",
      "pygments_lexer": "ipython3",
      "version": "3.12.3"
    },
    "prev_pub_hash": "23c643c8c1aa843c3873f66d020bff9ca5df91f975ec512e5214e2cad5adc399"
  },
  "nbformat": 4,
  "nbformat_minor": 4
}
