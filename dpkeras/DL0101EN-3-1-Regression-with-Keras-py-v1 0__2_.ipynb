{
 "cells": [
  {
   "cell_type": "markdown",
   "metadata": {},
   "source": [
    "<a href=\"https://cognitiveclass.ai\"><img src=\"https://cf-courses-data.s3.us.cloud-object-storage.appdomain.cloud/IBMDeveloperSkillsNetwork-DL0101EN-SkillsNetwork/images/IDSN-logo.png\" width=\"400\"> </a>\n",
    "\n",
    "# Regression Models with Keras\n",
    "\n",
    "Estimated time needed: **45** mins\n"
   ]
  },
  {
   "cell_type": "markdown",
   "metadata": {},
   "source": [
    "## Introduction\n"
   ]
  },
  {
   "cell_type": "markdown",
   "metadata": {},
   "source": [
    "As we discussed in the videos, despite the popularity of more powerful libraries such as PyToch and TensorFlow, they are not easy to use and have a steep learning curve. So, for people who are just starting to learn deep learning, there is no better library to use other than the Keras library. \n",
    "\n",
    "Keras is a high-level API for building deep learning models. It has gained favor for its ease of use and syntactic simplicity facilitating fast development. As you will see in this lab and the other labs in this course, building a very complex deep learning network can be achieved with Keras with only few lines of code. You will appreciate Keras even more, once you learn how to build deep models using PyTorch and TensorFlow in the other courses.\n",
    "\n",
    "So, in this lab, you will learn how to use the Keras library to build a regression model.\n"
   ]
  },
  {
   "cell_type": "markdown",
   "metadata": {},
   "source": [
    "## Objectives for this Notebook    \n",
    "* How to use the Keras library to build a regression model\n",
    "* Download and clean the data set\n",
    "* Build a neural network\n",
    "* Train and test the network     \n",
    "\n"
   ]
  },
  {
   "cell_type": "markdown",
   "metadata": {},
   "source": [
    "<h2>Table of Contents</h2>\n",
    "\n",
    "\n",
    "<div class=\"alert alert-block alert-info\" style=\"margin-top: 20px\">\n",
    "\n",
    "<font size = 4>\n",
    "1. <a href=\"#Download-and-Clean-the-Data-Set\">Download and Clean the Data Set</a><br>\n",
    "2. <a href=\"#Import-Keras-Packages\">Import Keras Packages</a><br>\n",
    "3. <a href=\"#Build-a-Neural-Network\">Build a Neural Network</a><br>\n",
    "4. <a href=\"#Train-and-Test-the-Network\">Train and Test the Network</a><br>  \n",
    "\n",
    "</font>\n",
    "</div>\n"
   ]
  },
  {
   "cell_type": "markdown",
   "metadata": {},
   "source": [
    "Let's start by importing the <em>pandas</em> and the Numpy libraries.\n"
   ]
  },
  {
   "cell_type": "code",
   "execution_count": 2,
   "metadata": {},
   "outputs": [
    {
     "name": "stdout",
     "output_type": "stream",
     "text": [
      "Requirement already satisfied: numpy==2.0.2 in /opt/conda/lib/python3.12/site-packages (2.0.2)\n",
      "Requirement already satisfied: pandas==2.2.2 in /opt/conda/lib/python3.12/site-packages (2.2.2)\n",
      "Requirement already satisfied: numpy>=1.26.0 in /opt/conda/lib/python3.12/site-packages (from pandas==2.2.2) (2.0.2)\n",
      "Requirement already satisfied: python-dateutil>=2.8.2 in /opt/conda/lib/python3.12/site-packages (from pandas==2.2.2) (2.9.0.post0)\n",
      "Requirement already satisfied: pytz>=2020.1 in /opt/conda/lib/python3.12/site-packages (from pandas==2.2.2) (2024.2)\n",
      "Requirement already satisfied: tzdata>=2022.7 in /opt/conda/lib/python3.12/site-packages (from pandas==2.2.2) (2025.2)\n",
      "Requirement already satisfied: six>=1.5 in /opt/conda/lib/python3.12/site-packages (from python-dateutil>=2.8.2->pandas==2.2.2) (1.17.0)\n",
      "Requirement already satisfied: tensorflow_cpu==2.18.0 in /opt/conda/lib/python3.12/site-packages (2.18.0)\n",
      "Requirement already satisfied: absl-py>=1.0.0 in /opt/conda/lib/python3.12/site-packages (from tensorflow_cpu==2.18.0) (2.3.1)\n",
      "Requirement already satisfied: astunparse>=1.6.0 in /opt/conda/lib/python3.12/site-packages (from tensorflow_cpu==2.18.0) (1.6.3)\n",
      "Requirement already satisfied: flatbuffers>=24.3.25 in /opt/conda/lib/python3.12/site-packages (from tensorflow_cpu==2.18.0) (25.2.10)\n",
      "Requirement already satisfied: gast!=0.5.0,!=0.5.1,!=0.5.2,>=0.2.1 in /opt/conda/lib/python3.12/site-packages (from tensorflow_cpu==2.18.0) (0.6.0)\n",
      "Requirement already satisfied: google-pasta>=0.1.1 in /opt/conda/lib/python3.12/site-packages (from tensorflow_cpu==2.18.0) (0.2.0)\n",
      "Requirement already satisfied: libclang>=13.0.0 in /opt/conda/lib/python3.12/site-packages (from tensorflow_cpu==2.18.0) (18.1.1)\n",
      "Requirement already satisfied: opt-einsum>=2.3.2 in /opt/conda/lib/python3.12/site-packages (from tensorflow_cpu==2.18.0) (3.4.0)\n",
      "Requirement already satisfied: packaging in /opt/conda/lib/python3.12/site-packages (from tensorflow_cpu==2.18.0) (24.2)\n",
      "Requirement already satisfied: protobuf!=4.21.0,!=4.21.1,!=4.21.2,!=4.21.3,!=4.21.4,!=4.21.5,<6.0.0dev,>=3.20.3 in /opt/conda/lib/python3.12/site-packages (from tensorflow_cpu==2.18.0) (5.29.5)\n",
      "Requirement already satisfied: requests<3,>=2.21.0 in /opt/conda/lib/python3.12/site-packages (from tensorflow_cpu==2.18.0) (2.32.3)\n",
      "Requirement already satisfied: setuptools in /opt/conda/lib/python3.12/site-packages (from tensorflow_cpu==2.18.0) (75.8.0)\n",
      "Requirement already satisfied: six>=1.12.0 in /opt/conda/lib/python3.12/site-packages (from tensorflow_cpu==2.18.0) (1.17.0)\n",
      "Requirement already satisfied: termcolor>=1.1.0 in /opt/conda/lib/python3.12/site-packages (from tensorflow_cpu==2.18.0) (3.1.0)\n",
      "Requirement already satisfied: typing-extensions>=3.6.6 in /opt/conda/lib/python3.12/site-packages (from tensorflow_cpu==2.18.0) (4.12.2)\n",
      "Requirement already satisfied: wrapt>=1.11.0 in /opt/conda/lib/python3.12/site-packages (from tensorflow_cpu==2.18.0) (1.17.3)\n",
      "Requirement already satisfied: grpcio<2.0,>=1.24.3 in /opt/conda/lib/python3.12/site-packages (from tensorflow_cpu==2.18.0) (1.74.0)\n",
      "Requirement already satisfied: tensorboard<2.19,>=2.18 in /opt/conda/lib/python3.12/site-packages (from tensorflow_cpu==2.18.0) (2.18.0)\n",
      "Requirement already satisfied: keras>=3.5.0 in /opt/conda/lib/python3.12/site-packages (from tensorflow_cpu==2.18.0) (3.11.3)\n",
      "Requirement already satisfied: numpy<2.1.0,>=1.26.0 in /opt/conda/lib/python3.12/site-packages (from tensorflow_cpu==2.18.0) (2.0.2)\n",
      "Requirement already satisfied: h5py>=3.11.0 in /opt/conda/lib/python3.12/site-packages (from tensorflow_cpu==2.18.0) (3.14.0)\n",
      "Requirement already satisfied: ml-dtypes<0.5.0,>=0.4.0 in /opt/conda/lib/python3.12/site-packages (from tensorflow_cpu==2.18.0) (0.4.1)\n",
      "Requirement already satisfied: wheel<1.0,>=0.23.0 in /opt/conda/lib/python3.12/site-packages (from astunparse>=1.6.0->tensorflow_cpu==2.18.0) (0.45.1)\n",
      "Requirement already satisfied: rich in /opt/conda/lib/python3.12/site-packages (from keras>=3.5.0->tensorflow_cpu==2.18.0) (14.1.0)\n",
      "Requirement already satisfied: namex in /opt/conda/lib/python3.12/site-packages (from keras>=3.5.0->tensorflow_cpu==2.18.0) (0.1.0)\n",
      "Requirement already satisfied: optree in /opt/conda/lib/python3.12/site-packages (from keras>=3.5.0->tensorflow_cpu==2.18.0) (0.17.0)\n",
      "Requirement already satisfied: charset_normalizer<4,>=2 in /opt/conda/lib/python3.12/site-packages (from requests<3,>=2.21.0->tensorflow_cpu==2.18.0) (3.4.1)\n",
      "Requirement already satisfied: idna<4,>=2.5 in /opt/conda/lib/python3.12/site-packages (from requests<3,>=2.21.0->tensorflow_cpu==2.18.0) (3.10)\n",
      "Requirement already satisfied: urllib3<3,>=1.21.1 in /opt/conda/lib/python3.12/site-packages (from requests<3,>=2.21.0->tensorflow_cpu==2.18.0) (2.3.0)\n",
      "Requirement already satisfied: certifi>=2017.4.17 in /opt/conda/lib/python3.12/site-packages (from requests<3,>=2.21.0->tensorflow_cpu==2.18.0) (2024.12.14)\n",
      "Requirement already satisfied: markdown>=2.6.8 in /opt/conda/lib/python3.12/site-packages (from tensorboard<2.19,>=2.18->tensorflow_cpu==2.18.0) (3.9)\n",
      "Requirement already satisfied: tensorboard-data-server<0.8.0,>=0.7.0 in /opt/conda/lib/python3.12/site-packages (from tensorboard<2.19,>=2.18->tensorflow_cpu==2.18.0) (0.7.2)\n",
      "Requirement already satisfied: werkzeug>=1.0.1 in /opt/conda/lib/python3.12/site-packages (from tensorboard<2.19,>=2.18->tensorflow_cpu==2.18.0) (3.1.3)\n",
      "Requirement already satisfied: MarkupSafe>=2.1.1 in /opt/conda/lib/python3.12/site-packages (from werkzeug>=1.0.1->tensorboard<2.19,>=2.18->tensorflow_cpu==2.18.0) (3.0.2)\n",
      "Requirement already satisfied: markdown-it-py>=2.2.0 in /opt/conda/lib/python3.12/site-packages (from rich->keras>=3.5.0->tensorflow_cpu==2.18.0) (4.0.0)\n",
      "Requirement already satisfied: pygments<3.0.0,>=2.13.0 in /opt/conda/lib/python3.12/site-packages (from rich->keras>=3.5.0->tensorflow_cpu==2.18.0) (2.19.1)\n",
      "Requirement already satisfied: mdurl~=0.1 in /opt/conda/lib/python3.12/site-packages (from markdown-it-py>=2.2.0->rich->keras>=3.5.0->tensorflow_cpu==2.18.0) (0.1.2)\n"
     ]
    }
   ],
   "source": [
    "# All Libraries required for this lab are listed below. \n",
    "\n",
    "!pip install numpy==2.0.2\n",
    "!pip install pandas==2.2.2\n",
    "!pip install tensorflow_cpu==2.18.0\n"
   ]
  },
  {
   "cell_type": "markdown",
   "metadata": {},
   "source": [
    "#### To use Keras, you will also need to install a backend framework – such as TensorFlow.\n",
    "\n",
    "If you install TensorFlow 2.16 or above, it will install Keras by default.\n",
    "\n",
    "We are using the CPU version of tensorflow since we are dealing with smaller datasets. \n",
    "You may install the GPU version of tensorflow on your machine to accelarate the processing of larger datasets\n"
   ]
  },
  {
   "cell_type": "markdown",
   "metadata": {},
   "source": [
    "#### Suppress the tensorflow warning messages\n",
    "We use the following code to  suppress the warning messages due to use of CPU architechture for tensoflow.\n",
    "\n",
    "You may want to **comment out** these lines if you are using the GPU architechture\n"
   ]
  },
  {
   "cell_type": "code",
   "execution_count": 3,
   "metadata": {},
   "outputs": [],
   "source": [
    "import os\n",
    "os.environ['TF_ENABLE_ONEDNN_OPTS'] = '0'\n",
    "os.environ['TF_CPP_MIN_LOG_LEVEL'] = '2'"
   ]
  },
  {
   "cell_type": "code",
   "execution_count": 4,
   "metadata": {},
   "outputs": [],
   "source": [
    "import pandas as pd\n",
    "import numpy as np\n",
    "import keras\n",
    "\n",
    "import warnings\n",
    "warnings.simplefilter('ignore', FutureWarning)"
   ]
  },
  {
   "cell_type": "markdown",
   "metadata": {},
   "source": [
    "We will be playing around with the same dataset that we used in the videos.\n",
    "\n",
    "<strong>The dataset is about the compressive strength of different samples of concrete based on the volumes of the different ingredients that were used to make them. Ingredients include:</strong>\n",
    "\n",
    "* Cement\n",
    "* Blast furnace slag\n",
    "* Fly ash\n",
    "* Water\n",
    "* Superplasticizer\n",
    "* Coarse aggregate\n",
    "* Fine aggregate\n"
   ]
  },
  {
   "cell_type": "markdown",
   "metadata": {},
   "source": [
    "## Download and Clean the Data Set\n"
   ]
  },
  {
   "cell_type": "markdown",
   "metadata": {},
   "source": [
    "Let's download the data and read it into a <em>pandas</em> dataframe.\n"
   ]
  },
  {
   "cell_type": "code",
   "execution_count": 5,
   "metadata": {},
   "outputs": [
    {
     "data": {
      "text/html": [
       "<div>\n",
       "<style scoped>\n",
       "    .dataframe tbody tr th:only-of-type {\n",
       "        vertical-align: middle;\n",
       "    }\n",
       "\n",
       "    .dataframe tbody tr th {\n",
       "        vertical-align: top;\n",
       "    }\n",
       "\n",
       "    .dataframe thead th {\n",
       "        text-align: right;\n",
       "    }\n",
       "</style>\n",
       "<table border=\"1\" class=\"dataframe\">\n",
       "  <thead>\n",
       "    <tr style=\"text-align: right;\">\n",
       "      <th></th>\n",
       "      <th>Cement</th>\n",
       "      <th>Blast Furnace Slag</th>\n",
       "      <th>Fly Ash</th>\n",
       "      <th>Water</th>\n",
       "      <th>Superplasticizer</th>\n",
       "      <th>Coarse Aggregate</th>\n",
       "      <th>Fine Aggregate</th>\n",
       "      <th>Age</th>\n",
       "      <th>Strength</th>\n",
       "    </tr>\n",
       "  </thead>\n",
       "  <tbody>\n",
       "    <tr>\n",
       "      <th>0</th>\n",
       "      <td>540.0</td>\n",
       "      <td>0.0</td>\n",
       "      <td>0.0</td>\n",
       "      <td>162.0</td>\n",
       "      <td>2.5</td>\n",
       "      <td>1040.0</td>\n",
       "      <td>676.0</td>\n",
       "      <td>28</td>\n",
       "      <td>79.99</td>\n",
       "    </tr>\n",
       "    <tr>\n",
       "      <th>1</th>\n",
       "      <td>540.0</td>\n",
       "      <td>0.0</td>\n",
       "      <td>0.0</td>\n",
       "      <td>162.0</td>\n",
       "      <td>2.5</td>\n",
       "      <td>1055.0</td>\n",
       "      <td>676.0</td>\n",
       "      <td>28</td>\n",
       "      <td>61.89</td>\n",
       "    </tr>\n",
       "    <tr>\n",
       "      <th>2</th>\n",
       "      <td>332.5</td>\n",
       "      <td>142.5</td>\n",
       "      <td>0.0</td>\n",
       "      <td>228.0</td>\n",
       "      <td>0.0</td>\n",
       "      <td>932.0</td>\n",
       "      <td>594.0</td>\n",
       "      <td>270</td>\n",
       "      <td>40.27</td>\n",
       "    </tr>\n",
       "    <tr>\n",
       "      <th>3</th>\n",
       "      <td>332.5</td>\n",
       "      <td>142.5</td>\n",
       "      <td>0.0</td>\n",
       "      <td>228.0</td>\n",
       "      <td>0.0</td>\n",
       "      <td>932.0</td>\n",
       "      <td>594.0</td>\n",
       "      <td>365</td>\n",
       "      <td>41.05</td>\n",
       "    </tr>\n",
       "    <tr>\n",
       "      <th>4</th>\n",
       "      <td>198.6</td>\n",
       "      <td>132.4</td>\n",
       "      <td>0.0</td>\n",
       "      <td>192.0</td>\n",
       "      <td>0.0</td>\n",
       "      <td>978.4</td>\n",
       "      <td>825.5</td>\n",
       "      <td>360</td>\n",
       "      <td>44.30</td>\n",
       "    </tr>\n",
       "  </tbody>\n",
       "</table>\n",
       "</div>"
      ],
      "text/plain": [
       "   Cement  Blast Furnace Slag  Fly Ash  Water  Superplasticizer  \\\n",
       "0   540.0                 0.0      0.0  162.0               2.5   \n",
       "1   540.0                 0.0      0.0  162.0               2.5   \n",
       "2   332.5               142.5      0.0  228.0               0.0   \n",
       "3   332.5               142.5      0.0  228.0               0.0   \n",
       "4   198.6               132.4      0.0  192.0               0.0   \n",
       "\n",
       "   Coarse Aggregate  Fine Aggregate  Age  Strength  \n",
       "0            1040.0           676.0   28     79.99  \n",
       "1            1055.0           676.0   28     61.89  \n",
       "2             932.0           594.0  270     40.27  \n",
       "3             932.0           594.0  365     41.05  \n",
       "4             978.4           825.5  360     44.30  "
      ]
     },
     "execution_count": 5,
     "metadata": {},
     "output_type": "execute_result"
    }
   ],
   "source": [
    "filepath='https://s3-api.us-geo.objectstorage.softlayer.net/cf-courses-data/CognitiveClass/DL0101EN/labs/data/concrete_data.csv'\n",
    "concrete_data = pd.read_csv(filepath)\n",
    "\n",
    "concrete_data.head()"
   ]
  },
  {
   "cell_type": "markdown",
   "metadata": {},
   "source": [
    "So the first concrete sample has 540 cubic meter of cement, 0 cubic meter of blast furnace slag, 0 cubic meter of fly ash, 162 cubic meter of water, 2.5 cubic meter of superplaticizer, 1040 cubic meter of coarse aggregate, 676 cubic meter of fine aggregate. Such a concrete mix which is 28 days old, has a compressive strength of 79.99 MPa. \n"
   ]
  },
  {
   "cell_type": "markdown",
   "metadata": {},
   "source": [
    "#### Let's check how many data points we have\n"
   ]
  },
  {
   "cell_type": "code",
   "execution_count": 6,
   "metadata": {},
   "outputs": [
    {
     "data": {
      "text/plain": [
       "(1030, 9)"
      ]
     },
     "execution_count": 6,
     "metadata": {},
     "output_type": "execute_result"
    }
   ],
   "source": [
    "concrete_data.shape"
   ]
  },
  {
   "cell_type": "markdown",
   "metadata": {},
   "source": [
    "So, there are approximately 1000 samples to train our model on. Because of the few samples, we have to be careful not to overfit the training data.\n"
   ]
  },
  {
   "cell_type": "markdown",
   "metadata": {},
   "source": [
    "Let's check the dataset for any missing values.\n"
   ]
  },
  {
   "cell_type": "code",
   "execution_count": 7,
   "metadata": {},
   "outputs": [
    {
     "data": {
      "text/html": [
       "<div>\n",
       "<style scoped>\n",
       "    .dataframe tbody tr th:only-of-type {\n",
       "        vertical-align: middle;\n",
       "    }\n",
       "\n",
       "    .dataframe tbody tr th {\n",
       "        vertical-align: top;\n",
       "    }\n",
       "\n",
       "    .dataframe thead th {\n",
       "        text-align: right;\n",
       "    }\n",
       "</style>\n",
       "<table border=\"1\" class=\"dataframe\">\n",
       "  <thead>\n",
       "    <tr style=\"text-align: right;\">\n",
       "      <th></th>\n",
       "      <th>Cement</th>\n",
       "      <th>Blast Furnace Slag</th>\n",
       "      <th>Fly Ash</th>\n",
       "      <th>Water</th>\n",
       "      <th>Superplasticizer</th>\n",
       "      <th>Coarse Aggregate</th>\n",
       "      <th>Fine Aggregate</th>\n",
       "      <th>Age</th>\n",
       "      <th>Strength</th>\n",
       "    </tr>\n",
       "  </thead>\n",
       "  <tbody>\n",
       "    <tr>\n",
       "      <th>count</th>\n",
       "      <td>1030.000000</td>\n",
       "      <td>1030.000000</td>\n",
       "      <td>1030.000000</td>\n",
       "      <td>1030.000000</td>\n",
       "      <td>1030.000000</td>\n",
       "      <td>1030.000000</td>\n",
       "      <td>1030.000000</td>\n",
       "      <td>1030.000000</td>\n",
       "      <td>1030.000000</td>\n",
       "    </tr>\n",
       "    <tr>\n",
       "      <th>mean</th>\n",
       "      <td>281.167864</td>\n",
       "      <td>73.895825</td>\n",
       "      <td>54.188350</td>\n",
       "      <td>181.567282</td>\n",
       "      <td>6.204660</td>\n",
       "      <td>972.918932</td>\n",
       "      <td>773.580485</td>\n",
       "      <td>45.662136</td>\n",
       "      <td>35.817961</td>\n",
       "    </tr>\n",
       "    <tr>\n",
       "      <th>std</th>\n",
       "      <td>104.506364</td>\n",
       "      <td>86.279342</td>\n",
       "      <td>63.997004</td>\n",
       "      <td>21.354219</td>\n",
       "      <td>5.973841</td>\n",
       "      <td>77.753954</td>\n",
       "      <td>80.175980</td>\n",
       "      <td>63.169912</td>\n",
       "      <td>16.705742</td>\n",
       "    </tr>\n",
       "    <tr>\n",
       "      <th>min</th>\n",
       "      <td>102.000000</td>\n",
       "      <td>0.000000</td>\n",
       "      <td>0.000000</td>\n",
       "      <td>121.800000</td>\n",
       "      <td>0.000000</td>\n",
       "      <td>801.000000</td>\n",
       "      <td>594.000000</td>\n",
       "      <td>1.000000</td>\n",
       "      <td>2.330000</td>\n",
       "    </tr>\n",
       "    <tr>\n",
       "      <th>25%</th>\n",
       "      <td>192.375000</td>\n",
       "      <td>0.000000</td>\n",
       "      <td>0.000000</td>\n",
       "      <td>164.900000</td>\n",
       "      <td>0.000000</td>\n",
       "      <td>932.000000</td>\n",
       "      <td>730.950000</td>\n",
       "      <td>7.000000</td>\n",
       "      <td>23.710000</td>\n",
       "    </tr>\n",
       "    <tr>\n",
       "      <th>50%</th>\n",
       "      <td>272.900000</td>\n",
       "      <td>22.000000</td>\n",
       "      <td>0.000000</td>\n",
       "      <td>185.000000</td>\n",
       "      <td>6.400000</td>\n",
       "      <td>968.000000</td>\n",
       "      <td>779.500000</td>\n",
       "      <td>28.000000</td>\n",
       "      <td>34.445000</td>\n",
       "    </tr>\n",
       "    <tr>\n",
       "      <th>75%</th>\n",
       "      <td>350.000000</td>\n",
       "      <td>142.950000</td>\n",
       "      <td>118.300000</td>\n",
       "      <td>192.000000</td>\n",
       "      <td>10.200000</td>\n",
       "      <td>1029.400000</td>\n",
       "      <td>824.000000</td>\n",
       "      <td>56.000000</td>\n",
       "      <td>46.135000</td>\n",
       "    </tr>\n",
       "    <tr>\n",
       "      <th>max</th>\n",
       "      <td>540.000000</td>\n",
       "      <td>359.400000</td>\n",
       "      <td>200.100000</td>\n",
       "      <td>247.000000</td>\n",
       "      <td>32.200000</td>\n",
       "      <td>1145.000000</td>\n",
       "      <td>992.600000</td>\n",
       "      <td>365.000000</td>\n",
       "      <td>82.600000</td>\n",
       "    </tr>\n",
       "  </tbody>\n",
       "</table>\n",
       "</div>"
      ],
      "text/plain": [
       "            Cement  Blast Furnace Slag      Fly Ash        Water  \\\n",
       "count  1030.000000         1030.000000  1030.000000  1030.000000   \n",
       "mean    281.167864           73.895825    54.188350   181.567282   \n",
       "std     104.506364           86.279342    63.997004    21.354219   \n",
       "min     102.000000            0.000000     0.000000   121.800000   \n",
       "25%     192.375000            0.000000     0.000000   164.900000   \n",
       "50%     272.900000           22.000000     0.000000   185.000000   \n",
       "75%     350.000000          142.950000   118.300000   192.000000   \n",
       "max     540.000000          359.400000   200.100000   247.000000   \n",
       "\n",
       "       Superplasticizer  Coarse Aggregate  Fine Aggregate          Age  \\\n",
       "count       1030.000000       1030.000000     1030.000000  1030.000000   \n",
       "mean           6.204660        972.918932      773.580485    45.662136   \n",
       "std            5.973841         77.753954       80.175980    63.169912   \n",
       "min            0.000000        801.000000      594.000000     1.000000   \n",
       "25%            0.000000        932.000000      730.950000     7.000000   \n",
       "50%            6.400000        968.000000      779.500000    28.000000   \n",
       "75%           10.200000       1029.400000      824.000000    56.000000   \n",
       "max           32.200000       1145.000000      992.600000   365.000000   \n",
       "\n",
       "          Strength  \n",
       "count  1030.000000  \n",
       "mean     35.817961  \n",
       "std      16.705742  \n",
       "min       2.330000  \n",
       "25%      23.710000  \n",
       "50%      34.445000  \n",
       "75%      46.135000  \n",
       "max      82.600000  "
      ]
     },
     "execution_count": 7,
     "metadata": {},
     "output_type": "execute_result"
    }
   ],
   "source": [
    "concrete_data.describe()"
   ]
  },
  {
   "cell_type": "code",
   "execution_count": 8,
   "metadata": {},
   "outputs": [
    {
     "data": {
      "text/plain": [
       "Cement                0\n",
       "Blast Furnace Slag    0\n",
       "Fly Ash               0\n",
       "Water                 0\n",
       "Superplasticizer      0\n",
       "Coarse Aggregate      0\n",
       "Fine Aggregate        0\n",
       "Age                   0\n",
       "Strength              0\n",
       "dtype: int64"
      ]
     },
     "execution_count": 8,
     "metadata": {},
     "output_type": "execute_result"
    }
   ],
   "source": [
    "concrete_data.isnull().sum()"
   ]
  },
  {
   "cell_type": "markdown",
   "metadata": {},
   "source": [
    "The data looks very clean and is ready to be used to build our model.\n"
   ]
  },
  {
   "cell_type": "markdown",
   "metadata": {},
   "source": [
    "#### Split data into predictors and target\n"
   ]
  },
  {
   "cell_type": "markdown",
   "metadata": {},
   "source": [
    "The target variable in this problem is the concrete sample strength. Therefore, our predictors will be all the other columns.\n"
   ]
  },
  {
   "cell_type": "code",
   "execution_count": 9,
   "metadata": {},
   "outputs": [],
   "source": [
    "concrete_data_columns = concrete_data.columns"
   ]
  },
  {
   "cell_type": "code",
   "execution_count": 10,
   "metadata": {},
   "outputs": [],
   "source": [
    "predictors = concrete_data[concrete_data_columns[concrete_data_columns != 'Strength']] # all columns except Strength\n",
    "target = concrete_data['Strength'] # Strength column"
   ]
  },
  {
   "cell_type": "markdown",
   "metadata": {},
   "source": [
    "<a id=\"item2\"></a>\n"
   ]
  },
  {
   "cell_type": "markdown",
   "metadata": {},
   "source": [
    "Let's do a quick sanity check of the predictors and the target dataframes.\n"
   ]
  },
  {
   "cell_type": "code",
   "execution_count": 11,
   "metadata": {},
   "outputs": [
    {
     "data": {
      "text/html": [
       "<div>\n",
       "<style scoped>\n",
       "    .dataframe tbody tr th:only-of-type {\n",
       "        vertical-align: middle;\n",
       "    }\n",
       "\n",
       "    .dataframe tbody tr th {\n",
       "        vertical-align: top;\n",
       "    }\n",
       "\n",
       "    .dataframe thead th {\n",
       "        text-align: right;\n",
       "    }\n",
       "</style>\n",
       "<table border=\"1\" class=\"dataframe\">\n",
       "  <thead>\n",
       "    <tr style=\"text-align: right;\">\n",
       "      <th></th>\n",
       "      <th>Cement</th>\n",
       "      <th>Blast Furnace Slag</th>\n",
       "      <th>Fly Ash</th>\n",
       "      <th>Water</th>\n",
       "      <th>Superplasticizer</th>\n",
       "      <th>Coarse Aggregate</th>\n",
       "      <th>Fine Aggregate</th>\n",
       "      <th>Age</th>\n",
       "    </tr>\n",
       "  </thead>\n",
       "  <tbody>\n",
       "    <tr>\n",
       "      <th>0</th>\n",
       "      <td>540.0</td>\n",
       "      <td>0.0</td>\n",
       "      <td>0.0</td>\n",
       "      <td>162.0</td>\n",
       "      <td>2.5</td>\n",
       "      <td>1040.0</td>\n",
       "      <td>676.0</td>\n",
       "      <td>28</td>\n",
       "    </tr>\n",
       "    <tr>\n",
       "      <th>1</th>\n",
       "      <td>540.0</td>\n",
       "      <td>0.0</td>\n",
       "      <td>0.0</td>\n",
       "      <td>162.0</td>\n",
       "      <td>2.5</td>\n",
       "      <td>1055.0</td>\n",
       "      <td>676.0</td>\n",
       "      <td>28</td>\n",
       "    </tr>\n",
       "    <tr>\n",
       "      <th>2</th>\n",
       "      <td>332.5</td>\n",
       "      <td>142.5</td>\n",
       "      <td>0.0</td>\n",
       "      <td>228.0</td>\n",
       "      <td>0.0</td>\n",
       "      <td>932.0</td>\n",
       "      <td>594.0</td>\n",
       "      <td>270</td>\n",
       "    </tr>\n",
       "    <tr>\n",
       "      <th>3</th>\n",
       "      <td>332.5</td>\n",
       "      <td>142.5</td>\n",
       "      <td>0.0</td>\n",
       "      <td>228.0</td>\n",
       "      <td>0.0</td>\n",
       "      <td>932.0</td>\n",
       "      <td>594.0</td>\n",
       "      <td>365</td>\n",
       "    </tr>\n",
       "    <tr>\n",
       "      <th>4</th>\n",
       "      <td>198.6</td>\n",
       "      <td>132.4</td>\n",
       "      <td>0.0</td>\n",
       "      <td>192.0</td>\n",
       "      <td>0.0</td>\n",
       "      <td>978.4</td>\n",
       "      <td>825.5</td>\n",
       "      <td>360</td>\n",
       "    </tr>\n",
       "  </tbody>\n",
       "</table>\n",
       "</div>"
      ],
      "text/plain": [
       "   Cement  Blast Furnace Slag  Fly Ash  Water  Superplasticizer  \\\n",
       "0   540.0                 0.0      0.0  162.0               2.5   \n",
       "1   540.0                 0.0      0.0  162.0               2.5   \n",
       "2   332.5               142.5      0.0  228.0               0.0   \n",
       "3   332.5               142.5      0.0  228.0               0.0   \n",
       "4   198.6               132.4      0.0  192.0               0.0   \n",
       "\n",
       "   Coarse Aggregate  Fine Aggregate  Age  \n",
       "0            1040.0           676.0   28  \n",
       "1            1055.0           676.0   28  \n",
       "2             932.0           594.0  270  \n",
       "3             932.0           594.0  365  \n",
       "4             978.4           825.5  360  "
      ]
     },
     "execution_count": 11,
     "metadata": {},
     "output_type": "execute_result"
    }
   ],
   "source": [
    "predictors.head()"
   ]
  },
  {
   "cell_type": "code",
   "execution_count": 12,
   "metadata": {},
   "outputs": [
    {
     "data": {
      "text/plain": [
       "0    79.99\n",
       "1    61.89\n",
       "2    40.27\n",
       "3    41.05\n",
       "4    44.30\n",
       "Name: Strength, dtype: float64"
      ]
     },
     "execution_count": 12,
     "metadata": {},
     "output_type": "execute_result"
    }
   ],
   "source": [
    "target.head()"
   ]
  },
  {
   "cell_type": "markdown",
   "metadata": {},
   "source": [
    "Finally, the last step is to normalize the data by substracting the mean and dividing by the standard deviation.\n"
   ]
  },
  {
   "cell_type": "code",
   "execution_count": 13,
   "metadata": {},
   "outputs": [
    {
     "data": {
      "text/html": [
       "<div>\n",
       "<style scoped>\n",
       "    .dataframe tbody tr th:only-of-type {\n",
       "        vertical-align: middle;\n",
       "    }\n",
       "\n",
       "    .dataframe tbody tr th {\n",
       "        vertical-align: top;\n",
       "    }\n",
       "\n",
       "    .dataframe thead th {\n",
       "        text-align: right;\n",
       "    }\n",
       "</style>\n",
       "<table border=\"1\" class=\"dataframe\">\n",
       "  <thead>\n",
       "    <tr style=\"text-align: right;\">\n",
       "      <th></th>\n",
       "      <th>Cement</th>\n",
       "      <th>Blast Furnace Slag</th>\n",
       "      <th>Fly Ash</th>\n",
       "      <th>Water</th>\n",
       "      <th>Superplasticizer</th>\n",
       "      <th>Coarse Aggregate</th>\n",
       "      <th>Fine Aggregate</th>\n",
       "      <th>Age</th>\n",
       "    </tr>\n",
       "  </thead>\n",
       "  <tbody>\n",
       "    <tr>\n",
       "      <th>0</th>\n",
       "      <td>2.476712</td>\n",
       "      <td>-0.856472</td>\n",
       "      <td>-0.846733</td>\n",
       "      <td>-0.916319</td>\n",
       "      <td>-0.620147</td>\n",
       "      <td>0.862735</td>\n",
       "      <td>-1.217079</td>\n",
       "      <td>-0.279597</td>\n",
       "    </tr>\n",
       "    <tr>\n",
       "      <th>1</th>\n",
       "      <td>2.476712</td>\n",
       "      <td>-0.856472</td>\n",
       "      <td>-0.846733</td>\n",
       "      <td>-0.916319</td>\n",
       "      <td>-0.620147</td>\n",
       "      <td>1.055651</td>\n",
       "      <td>-1.217079</td>\n",
       "      <td>-0.279597</td>\n",
       "    </tr>\n",
       "    <tr>\n",
       "      <th>2</th>\n",
       "      <td>0.491187</td>\n",
       "      <td>0.795140</td>\n",
       "      <td>-0.846733</td>\n",
       "      <td>2.174405</td>\n",
       "      <td>-1.038638</td>\n",
       "      <td>-0.526262</td>\n",
       "      <td>-2.239829</td>\n",
       "      <td>3.551340</td>\n",
       "    </tr>\n",
       "    <tr>\n",
       "      <th>3</th>\n",
       "      <td>0.491187</td>\n",
       "      <td>0.795140</td>\n",
       "      <td>-0.846733</td>\n",
       "      <td>2.174405</td>\n",
       "      <td>-1.038638</td>\n",
       "      <td>-0.526262</td>\n",
       "      <td>-2.239829</td>\n",
       "      <td>5.055221</td>\n",
       "    </tr>\n",
       "    <tr>\n",
       "      <th>4</th>\n",
       "      <td>-0.790075</td>\n",
       "      <td>0.678079</td>\n",
       "      <td>-0.846733</td>\n",
       "      <td>0.488555</td>\n",
       "      <td>-1.038638</td>\n",
       "      <td>0.070492</td>\n",
       "      <td>0.647569</td>\n",
       "      <td>4.976069</td>\n",
       "    </tr>\n",
       "  </tbody>\n",
       "</table>\n",
       "</div>"
      ],
      "text/plain": [
       "     Cement  Blast Furnace Slag   Fly Ash     Water  Superplasticizer  \\\n",
       "0  2.476712           -0.856472 -0.846733 -0.916319         -0.620147   \n",
       "1  2.476712           -0.856472 -0.846733 -0.916319         -0.620147   \n",
       "2  0.491187            0.795140 -0.846733  2.174405         -1.038638   \n",
       "3  0.491187            0.795140 -0.846733  2.174405         -1.038638   \n",
       "4 -0.790075            0.678079 -0.846733  0.488555         -1.038638   \n",
       "\n",
       "   Coarse Aggregate  Fine Aggregate       Age  \n",
       "0          0.862735       -1.217079 -0.279597  \n",
       "1          1.055651       -1.217079 -0.279597  \n",
       "2         -0.526262       -2.239829  3.551340  \n",
       "3         -0.526262       -2.239829  5.055221  \n",
       "4          0.070492        0.647569  4.976069  "
      ]
     },
     "execution_count": 13,
     "metadata": {},
     "output_type": "execute_result"
    }
   ],
   "source": [
    "predictors_norm = (predictors - predictors.mean()) / predictors.std()\n",
    "predictors_norm.head()"
   ]
  },
  {
   "cell_type": "markdown",
   "metadata": {},
   "source": [
    "Let's save the number of predictors to *n_cols* since we will need this number when building our network.\n"
   ]
  },
  {
   "cell_type": "code",
   "execution_count": 14,
   "metadata": {},
   "outputs": [],
   "source": [
    "n_cols = predictors_norm.shape[1] # number of predictors"
   ]
  },
  {
   "cell_type": "markdown",
   "metadata": {},
   "source": [
    "<a id=\"item1\"></a>\n"
   ]
  },
  {
   "cell_type": "markdown",
   "metadata": {},
   "source": [
    "##  Import Keras Packages\n",
    "\n",
    "##### Let's import the rest of the packages from the Keras library that we will need to build our regression model.\n"
   ]
  },
  {
   "cell_type": "code",
   "execution_count": 15,
   "metadata": {},
   "outputs": [],
   "source": [
    "from keras.models import Sequential\n",
    "from keras.layers import Dense\n",
    "from keras.layers import Input"
   ]
  },
  {
   "cell_type": "markdown",
   "metadata": {},
   "source": [
    "## Build a Neural Network\n"
   ]
  },
  {
   "cell_type": "markdown",
   "metadata": {},
   "source": [
    "Let's define a function that defines our regression model for us so that we can conveniently call it to create our model.\n"
   ]
  },
  {
   "cell_type": "code",
   "execution_count": 16,
   "metadata": {},
   "outputs": [],
   "source": [
    "# define regression model\n",
    "def regression_model():\n",
    "    # create model\n",
    "    model = Sequential()\n",
    "    model.add(Input(shape=(n_cols,)))\n",
    "    model.add(Dense(50, activation='relu'))\n",
    "    model.add(Dense(50, activation='relu'))\n",
    "    model.add(Dense(1))\n",
    "    \n",
    "    # compile model\n",
    "    model.compile(optimizer='adam', loss='mean_squared_error')\n",
    "    return model"
   ]
  },
  {
   "cell_type": "markdown",
   "metadata": {},
   "source": [
    "The above function create a model that has two hidden layers, each of 50 hidden units.\n"
   ]
  },
  {
   "cell_type": "markdown",
   "metadata": {},
   "source": [
    "## Train and Test the Network\n"
   ]
  },
  {
   "cell_type": "markdown",
   "metadata": {},
   "source": [
    "Let's call the function now to create our model.\n"
   ]
  },
  {
   "cell_type": "code",
   "execution_count": 17,
   "metadata": {},
   "outputs": [],
   "source": [
    "# build the model\n",
    "model = regression_model()"
   ]
  },
  {
   "cell_type": "markdown",
   "metadata": {},
   "source": [
    "Next, we will train and test the model at the same time using the *fit* method. We will leave out 30% of the data for validation and we will train the model for 100 epochs.\n"
   ]
  },
  {
   "cell_type": "code",
   "execution_count": 18,
   "metadata": {},
   "outputs": [
    {
     "name": "stdout",
     "output_type": "stream",
     "text": [
      "Epoch 1/100\n",
      "23/23 - 1s - 51ms/step - loss: 1610.0605 - val_loss: 1106.7958\n",
      "Epoch 2/100\n",
      "23/23 - 0s - 7ms/step - loss: 1452.1573 - val_loss: 956.4861\n",
      "Epoch 3/100\n",
      "23/23 - 0s - 8ms/step - loss: 1201.4922 - val_loss: 742.5447\n",
      "Epoch 4/100\n",
      "23/23 - 0s - 8ms/step - loss: 860.2344 - val_loss: 500.3979\n",
      "Epoch 5/100\n",
      "23/23 - 0s - 7ms/step - loss: 514.4515 - val_loss: 312.0375\n",
      "Epoch 6/100\n",
      "23/23 - 0s - 7ms/step - loss: 299.7081 - val_loss: 225.4521\n",
      "Epoch 7/100\n",
      "23/23 - 0s - 6ms/step - loss: 238.5882 - val_loss: 199.0448\n",
      "Epoch 8/100\n",
      "23/23 - 0s - 7ms/step - loss: 222.3699 - val_loss: 193.6485\n",
      "Epoch 9/100\n",
      "23/23 - 0s - 7ms/step - loss: 211.6987 - val_loss: 189.1890\n",
      "Epoch 10/100\n",
      "23/23 - 0s - 7ms/step - loss: 203.7179 - val_loss: 185.5582\n",
      "Epoch 11/100\n",
      "23/23 - 0s - 7ms/step - loss: 196.6989 - val_loss: 184.2574\n",
      "Epoch 12/100\n",
      "23/23 - 0s - 6ms/step - loss: 190.0613 - val_loss: 180.5866\n",
      "Epoch 13/100\n",
      "23/23 - 0s - 7ms/step - loss: 184.3531 - val_loss: 174.3710\n",
      "Epoch 14/100\n",
      "23/23 - 0s - 7ms/step - loss: 179.5302 - val_loss: 173.7599\n",
      "Epoch 15/100\n",
      "23/23 - 0s - 11ms/step - loss: 175.2567 - val_loss: 170.3762\n",
      "Epoch 16/100\n",
      "23/23 - 0s - 14ms/step - loss: 171.0444 - val_loss: 169.6466\n",
      "Epoch 17/100\n",
      "23/23 - 0s - 11ms/step - loss: 167.7258 - val_loss: 169.5594\n",
      "Epoch 18/100\n",
      "23/23 - 0s - 11ms/step - loss: 164.7458 - val_loss: 165.1050\n",
      "Epoch 19/100\n",
      "23/23 - 0s - 12ms/step - loss: 160.9803 - val_loss: 162.0824\n",
      "Epoch 20/100\n",
      "23/23 - 0s - 6ms/step - loss: 158.6095 - val_loss: 160.6600\n",
      "Epoch 21/100\n",
      "23/23 - 0s - 7ms/step - loss: 156.6297 - val_loss: 157.9311\n",
      "Epoch 22/100\n",
      "23/23 - 0s - 7ms/step - loss: 154.8709 - val_loss: 157.0263\n",
      "Epoch 23/100\n",
      "23/23 - 0s - 7ms/step - loss: 152.1545 - val_loss: 157.1922\n",
      "Epoch 24/100\n",
      "23/23 - 0s - 7ms/step - loss: 150.0544 - val_loss: 155.1544\n",
      "Epoch 25/100\n",
      "23/23 - 0s - 13ms/step - loss: 148.2223 - val_loss: 154.3721\n",
      "Epoch 26/100\n",
      "23/23 - 0s - 7ms/step - loss: 146.5178 - val_loss: 155.7694\n",
      "Epoch 27/100\n",
      "23/23 - 0s - 6ms/step - loss: 144.8005 - val_loss: 154.8199\n",
      "Epoch 28/100\n",
      "23/23 - 0s - 6ms/step - loss: 142.6642 - val_loss: 152.0453\n",
      "Epoch 29/100\n",
      "23/23 - 0s - 6ms/step - loss: 141.4795 - val_loss: 151.2083\n",
      "Epoch 30/100\n",
      "23/23 - 0s - 7ms/step - loss: 139.7101 - val_loss: 152.2064\n",
      "Epoch 31/100\n",
      "23/23 - 0s - 7ms/step - loss: 138.8532 - val_loss: 151.6398\n",
      "Epoch 32/100\n",
      "23/23 - 0s - 6ms/step - loss: 136.8105 - val_loss: 152.7542\n",
      "Epoch 33/100\n",
      "23/23 - 0s - 6ms/step - loss: 135.4219 - val_loss: 152.5298\n",
      "Epoch 34/100\n",
      "23/23 - 0s - 6ms/step - loss: 133.9421 - val_loss: 150.6620\n",
      "Epoch 35/100\n",
      "23/23 - 0s - 6ms/step - loss: 132.8841 - val_loss: 150.8147\n",
      "Epoch 36/100\n",
      "23/23 - 0s - 6ms/step - loss: 131.3421 - val_loss: 151.3055\n",
      "Epoch 37/100\n",
      "23/23 - 0s - 7ms/step - loss: 129.3567 - val_loss: 152.2160\n",
      "Epoch 38/100\n",
      "23/23 - 0s - 6ms/step - loss: 128.1436 - val_loss: 147.9367\n",
      "Epoch 39/100\n",
      "23/23 - 0s - 6ms/step - loss: 126.4434 - val_loss: 150.1923\n",
      "Epoch 40/100\n",
      "23/23 - 0s - 7ms/step - loss: 124.9932 - val_loss: 151.9976\n",
      "Epoch 41/100\n",
      "23/23 - 0s - 6ms/step - loss: 122.5339 - val_loss: 149.3838\n",
      "Epoch 42/100\n",
      "23/23 - 0s - 6ms/step - loss: 120.0034 - val_loss: 148.7995\n",
      "Epoch 43/100\n",
      "23/23 - 0s - 6ms/step - loss: 118.5342 - val_loss: 148.7782\n",
      "Epoch 44/100\n",
      "23/23 - 0s - 6ms/step - loss: 116.3667 - val_loss: 146.2660\n",
      "Epoch 45/100\n",
      "23/23 - 0s - 6ms/step - loss: 115.1022 - val_loss: 148.7026\n",
      "Epoch 46/100\n",
      "23/23 - 0s - 6ms/step - loss: 111.9507 - val_loss: 146.5669\n",
      "Epoch 47/100\n",
      "23/23 - 0s - 6ms/step - loss: 109.9674 - val_loss: 144.9443\n",
      "Epoch 48/100\n",
      "23/23 - 0s - 6ms/step - loss: 107.9628 - val_loss: 144.9288\n",
      "Epoch 49/100\n",
      "23/23 - 0s - 6ms/step - loss: 104.6498 - val_loss: 141.6754\n",
      "Epoch 50/100\n",
      "23/23 - 0s - 6ms/step - loss: 102.1476 - val_loss: 142.0549\n",
      "Epoch 51/100\n",
      "23/23 - 0s - 6ms/step - loss: 99.0528 - val_loss: 140.2186\n",
      "Epoch 52/100\n",
      "23/23 - 0s - 6ms/step - loss: 94.8775 - val_loss: 139.8034\n",
      "Epoch 53/100\n",
      "23/23 - 0s - 10ms/step - loss: 91.9167 - val_loss: 137.9669\n",
      "Epoch 54/100\n",
      "23/23 - 0s - 12ms/step - loss: 87.8820 - val_loss: 132.4892\n",
      "Epoch 55/100\n",
      "23/23 - 0s - 7ms/step - loss: 83.3312 - val_loss: 133.6212\n",
      "Epoch 56/100\n",
      "23/23 - 0s - 6ms/step - loss: 80.1103 - val_loss: 127.8730\n",
      "Epoch 57/100\n",
      "23/23 - 0s - 6ms/step - loss: 76.0270 - val_loss: 131.7127\n",
      "Epoch 58/100\n",
      "23/23 - 0s - 7ms/step - loss: 72.4260 - val_loss: 122.0698\n",
      "Epoch 59/100\n",
      "23/23 - 0s - 6ms/step - loss: 69.0772 - val_loss: 130.0066\n",
      "Epoch 60/100\n",
      "23/23 - 0s - 6ms/step - loss: 66.4467 - val_loss: 121.3007\n",
      "Epoch 61/100\n",
      "23/23 - 0s - 6ms/step - loss: 62.8942 - val_loss: 120.9113\n",
      "Epoch 62/100\n",
      "23/23 - 0s - 7ms/step - loss: 60.3627 - val_loss: 113.9679\n",
      "Epoch 63/100\n",
      "23/23 - 0s - 6ms/step - loss: 59.5053 - val_loss: 116.1316\n",
      "Epoch 64/100\n",
      "23/23 - 0s - 6ms/step - loss: 56.1117 - val_loss: 117.8333\n",
      "Epoch 65/100\n",
      "23/23 - 0s - 7ms/step - loss: 53.9768 - val_loss: 116.5423\n",
      "Epoch 66/100\n",
      "23/23 - 0s - 6ms/step - loss: 52.8253 - val_loss: 114.7905\n",
      "Epoch 67/100\n",
      "23/23 - 0s - 7ms/step - loss: 50.6723 - val_loss: 114.3066\n",
      "Epoch 68/100\n",
      "23/23 - 0s - 7ms/step - loss: 49.0321 - val_loss: 110.4898\n",
      "Epoch 69/100\n",
      "23/23 - 0s - 7ms/step - loss: 47.4998 - val_loss: 108.9949\n",
      "Epoch 70/100\n",
      "23/23 - 0s - 7ms/step - loss: 46.3623 - val_loss: 112.7899\n",
      "Epoch 71/100\n",
      "23/23 - 0s - 7ms/step - loss: 45.0980 - val_loss: 109.7904\n",
      "Epoch 72/100\n",
      "23/23 - 0s - 6ms/step - loss: 44.5915 - val_loss: 124.2538\n",
      "Epoch 73/100\n",
      "23/23 - 0s - 7ms/step - loss: 44.4037 - val_loss: 109.8488\n",
      "Epoch 74/100\n",
      "23/23 - 0s - 6ms/step - loss: 42.9767 - val_loss: 117.7406\n",
      "Epoch 75/100\n",
      "23/23 - 0s - 6ms/step - loss: 41.7459 - val_loss: 118.8835\n",
      "Epoch 76/100\n",
      "23/23 - 0s - 6ms/step - loss: 41.2677 - val_loss: 108.5442\n",
      "Epoch 77/100\n",
      "23/23 - 0s - 7ms/step - loss: 40.3456 - val_loss: 115.9540\n",
      "Epoch 78/100\n",
      "23/23 - 0s - 7ms/step - loss: 39.7699 - val_loss: 115.6396\n",
      "Epoch 79/100\n",
      "23/23 - 0s - 7ms/step - loss: 39.5858 - val_loss: 124.7561\n",
      "Epoch 80/100\n",
      "23/23 - 0s - 6ms/step - loss: 39.0163 - val_loss: 117.3799\n",
      "Epoch 81/100\n",
      "23/23 - 0s - 6ms/step - loss: 38.1161 - val_loss: 113.9432\n",
      "Epoch 82/100\n",
      "23/23 - 0s - 8ms/step - loss: 37.8776 - val_loss: 122.6884\n",
      "Epoch 83/100\n",
      "23/23 - 0s - 12ms/step - loss: 37.2850 - val_loss: 114.9285\n",
      "Epoch 84/100\n",
      "23/23 - 0s - 9ms/step - loss: 38.1377 - val_loss: 121.2062\n",
      "Epoch 85/100\n",
      "23/23 - 0s - 9ms/step - loss: 37.1842 - val_loss: 127.6836\n",
      "Epoch 86/100\n",
      "23/23 - 0s - 17ms/step - loss: 36.1531 - val_loss: 117.6349\n",
      "Epoch 87/100\n",
      "23/23 - 0s - 13ms/step - loss: 36.5925 - val_loss: 131.6028\n",
      "Epoch 88/100\n",
      "23/23 - 0s - 11ms/step - loss: 35.7922 - val_loss: 124.1835\n",
      "Epoch 89/100\n",
      "23/23 - 0s - 13ms/step - loss: 36.1623 - val_loss: 128.8885\n",
      "Epoch 90/100\n",
      "23/23 - 0s - 10ms/step - loss: 35.2222 - val_loss: 123.7308\n",
      "Epoch 91/100\n",
      "23/23 - 0s - 13ms/step - loss: 35.0585 - val_loss: 114.5116\n",
      "Epoch 92/100\n",
      "23/23 - 0s - 11ms/step - loss: 35.0711 - val_loss: 127.8110\n",
      "Epoch 93/100\n",
      "23/23 - 0s - 7ms/step - loss: 34.3292 - val_loss: 122.7538\n",
      "Epoch 94/100\n",
      "23/23 - 0s - 6ms/step - loss: 33.9242 - val_loss: 125.1723\n",
      "Epoch 95/100\n",
      "23/23 - 0s - 6ms/step - loss: 33.7432 - val_loss: 124.9540\n",
      "Epoch 96/100\n",
      "23/23 - 0s - 7ms/step - loss: 33.5046 - val_loss: 122.7702\n",
      "Epoch 97/100\n",
      "23/23 - 0s - 6ms/step - loss: 33.2104 - val_loss: 130.5080\n",
      "Epoch 98/100\n",
      "23/23 - 0s - 11ms/step - loss: 32.8505 - val_loss: 117.0942\n",
      "Epoch 99/100\n",
      "23/23 - 0s - 9ms/step - loss: 32.8961 - val_loss: 124.3189\n",
      "Epoch 100/100\n",
      "23/23 - 0s - 7ms/step - loss: 32.3480 - val_loss: 126.2722\n"
     ]
    },
    {
     "data": {
      "text/plain": [
       "<keras.src.callbacks.history.History at 0x7bbfe028b200>"
      ]
     },
     "execution_count": 18,
     "metadata": {},
     "output_type": "execute_result"
    }
   ],
   "source": [
    "# fit the model\n",
    "model.fit(predictors_norm, target, validation_split=0.3, epochs=100, verbose=2)"
   ]
  },
  {
   "cell_type": "markdown",
   "metadata": {},
   "source": [
    "<strong>You can refer to this [link](https://keras.io/models/sequential/) to learn about other functions that you can use for prediction or evaluation.</strong>\n"
   ]
  },
  {
   "cell_type": "markdown",
   "metadata": {},
   "source": [
    "Feel free to vary the following and note what impact each change has on the model's performance:\n",
    "\n",
    "1. Increase or decreate number of neurons in hidden layers\n",
    "2. Add more hidden layers\n",
    "3. Increase number of epochs\n"
   ]
  },
  {
   "cell_type": "markdown",
   "metadata": {},
   "source": [
    "<h3>Practice Exercise 1</h3>\n"
   ]
  },
  {
   "cell_type": "markdown",
   "metadata": {},
   "source": [
    "Now using the same dateset,try to recreate regression model featuring five hidden layers, each with 50 nodes and ReLU activation functions, a single output layer, optimized using the Adam optimizer.\n"
   ]
  },
  {
   "cell_type": "code",
   "execution_count": 22,
   "metadata": {},
   "outputs": [],
   "source": [
    "# define regression model\n",
    "def regression_model():\n",
    "    # create model\n",
    "    model = Sequential()\n",
    "    model.add(Input(shape=(n_cols,)))\n",
    "    for i in range(5):\n",
    "        model.add(Dense(50, activation='relu'))\n",
    "    model.add(Dense(1))\n",
    "    \n",
    "    # compile model\n",
    "    model.compile(optimizer='adam', loss='mean_squared_error')\n",
    "    return model"
   ]
  },
  {
   "cell_type": "code",
   "execution_count": 23,
   "metadata": {},
   "outputs": [
    {
     "name": "stdout",
     "output_type": "stream",
     "text": [
      "Epoch 1/100\n",
      "23/23 - 2s - 81ms/step - loss: 1642.5605 - val_loss: 1085.4120\n",
      "Epoch 2/100\n",
      "23/23 - 0s - 9ms/step - loss: 1036.4642 - val_loss: 268.4531\n",
      "Epoch 3/100\n",
      "23/23 - 0s - 9ms/step - loss: 328.1216 - val_loss: 232.0705\n",
      "Epoch 4/100\n",
      "23/23 - 0s - 9ms/step - loss: 243.8635 - val_loss: 193.5766\n",
      "Epoch 5/100\n",
      "23/23 - 0s - 9ms/step - loss: 220.3302 - val_loss: 195.5967\n",
      "Epoch 6/100\n",
      "23/23 - 0s - 8ms/step - loss: 199.9401 - val_loss: 180.1757\n",
      "Epoch 7/100\n",
      "23/23 - 0s - 8ms/step - loss: 184.1600 - val_loss: 170.6931\n",
      "Epoch 8/100\n",
      "23/23 - 0s - 8ms/step - loss: 168.4489 - val_loss: 157.1433\n",
      "Epoch 9/100\n",
      "23/23 - 0s - 8ms/step - loss: 156.2090 - val_loss: 161.7476\n",
      "Epoch 10/100\n",
      "23/23 - 0s - 8ms/step - loss: 140.9663 - val_loss: 149.6956\n",
      "Epoch 11/100\n",
      "23/23 - 0s - 8ms/step - loss: 129.1640 - val_loss: 154.1572\n",
      "Epoch 12/100\n",
      "23/23 - 0s - 8ms/step - loss: 115.7116 - val_loss: 162.3644\n",
      "Epoch 13/100\n",
      "23/23 - 0s - 8ms/step - loss: 102.6254 - val_loss: 161.2197\n",
      "Epoch 14/100\n",
      "23/23 - 0s - 8ms/step - loss: 88.8085 - val_loss: 158.1638\n",
      "Epoch 15/100\n",
      "23/23 - 0s - 8ms/step - loss: 79.7963 - val_loss: 142.0789\n",
      "Epoch 16/100\n",
      "23/23 - 0s - 8ms/step - loss: 72.1710 - val_loss: 154.5059\n",
      "Epoch 17/100\n",
      "23/23 - 0s - 8ms/step - loss: 64.9474 - val_loss: 143.2428\n",
      "Epoch 18/100\n",
      "23/23 - 0s - 8ms/step - loss: 58.8243 - val_loss: 159.6148\n",
      "Epoch 19/100\n",
      "23/23 - 0s - 7ms/step - loss: 52.0538 - val_loss: 180.8776\n",
      "Epoch 20/100\n",
      "23/23 - 0s - 8ms/step - loss: 47.0556 - val_loss: 206.5496\n",
      "Epoch 21/100\n",
      "23/23 - 0s - 8ms/step - loss: 44.8092 - val_loss: 160.2907\n",
      "Epoch 22/100\n",
      "23/23 - 0s - 9ms/step - loss: 43.6686 - val_loss: 194.7596\n",
      "Epoch 23/100\n",
      "23/23 - 0s - 8ms/step - loss: 39.7713 - val_loss: 171.9297\n",
      "Epoch 24/100\n",
      "23/23 - 0s - 8ms/step - loss: 37.0022 - val_loss: 201.4151\n",
      "Epoch 25/100\n",
      "23/23 - 0s - 8ms/step - loss: 34.4062 - val_loss: 169.7393\n",
      "Epoch 26/100\n",
      "23/23 - 0s - 8ms/step - loss: 32.8528 - val_loss: 178.9639\n",
      "Epoch 27/100\n",
      "23/23 - 0s - 8ms/step - loss: 31.2909 - val_loss: 196.4673\n",
      "Epoch 28/100\n",
      "23/23 - 0s - 8ms/step - loss: 29.4855 - val_loss: 234.1151\n",
      "Epoch 29/100\n",
      "23/23 - 0s - 8ms/step - loss: 29.5525 - val_loss: 185.2058\n",
      "Epoch 30/100\n",
      "23/23 - 0s - 8ms/step - loss: 29.1935 - val_loss: 203.8153\n",
      "Epoch 31/100\n",
      "23/23 - 0s - 8ms/step - loss: 26.6520 - val_loss: 208.3242\n",
      "Epoch 32/100\n",
      "23/23 - 0s - 8ms/step - loss: 26.2759 - val_loss: 204.0620\n",
      "Epoch 33/100\n",
      "23/23 - 0s - 8ms/step - loss: 26.7375 - val_loss: 162.4350\n",
      "Epoch 34/100\n",
      "23/23 - 0s - 8ms/step - loss: 25.3685 - val_loss: 187.4590\n",
      "Epoch 35/100\n",
      "23/23 - 0s - 8ms/step - loss: 24.1679 - val_loss: 184.3396\n",
      "Epoch 36/100\n",
      "23/23 - 0s - 8ms/step - loss: 24.5576 - val_loss: 168.4626\n",
      "Epoch 37/100\n",
      "23/23 - 0s - 8ms/step - loss: 23.8998 - val_loss: 230.7265\n",
      "Epoch 38/100\n",
      "23/23 - 0s - 8ms/step - loss: 25.3500 - val_loss: 153.0370\n",
      "Epoch 39/100\n",
      "23/23 - 0s - 8ms/step - loss: 24.2364 - val_loss: 174.7504\n",
      "Epoch 40/100\n",
      "23/23 - 0s - 8ms/step - loss: 23.2744 - val_loss: 190.7096\n",
      "Epoch 41/100\n",
      "23/23 - 0s - 7ms/step - loss: 21.4008 - val_loss: 186.6145\n",
      "Epoch 42/100\n",
      "23/23 - 0s - 8ms/step - loss: 23.2218 - val_loss: 206.7306\n",
      "Epoch 43/100\n",
      "23/23 - 0s - 8ms/step - loss: 21.8802 - val_loss: 204.7199\n",
      "Epoch 44/100\n",
      "23/23 - 0s - 8ms/step - loss: 20.2286 - val_loss: 194.6096\n",
      "Epoch 45/100\n",
      "23/23 - 0s - 8ms/step - loss: 19.3888 - val_loss: 225.3844\n",
      "Epoch 46/100\n",
      "23/23 - 0s - 8ms/step - loss: 20.2869 - val_loss: 196.9784\n",
      "Epoch 47/100\n",
      "23/23 - 0s - 8ms/step - loss: 18.7545 - val_loss: 185.3016\n",
      "Epoch 48/100\n",
      "23/23 - 0s - 8ms/step - loss: 19.8903 - val_loss: 198.8404\n",
      "Epoch 49/100\n",
      "23/23 - 0s - 8ms/step - loss: 19.2130 - val_loss: 209.2687\n",
      "Epoch 50/100\n",
      "23/23 - 0s - 8ms/step - loss: 18.2927 - val_loss: 211.7548\n",
      "Epoch 51/100\n",
      "23/23 - 0s - 8ms/step - loss: 18.3125 - val_loss: 207.4912\n",
      "Epoch 52/100\n",
      "23/23 - 0s - 8ms/step - loss: 18.0760 - val_loss: 211.4575\n",
      "Epoch 53/100\n",
      "23/23 - 0s - 8ms/step - loss: 17.6977 - val_loss: 188.6332\n",
      "Epoch 54/100\n",
      "23/23 - 0s - 8ms/step - loss: 17.5625 - val_loss: 213.3494\n",
      "Epoch 55/100\n",
      "23/23 - 0s - 8ms/step - loss: 17.0800 - val_loss: 199.7647\n",
      "Epoch 56/100\n",
      "23/23 - 0s - 8ms/step - loss: 19.6456 - val_loss: 182.1069\n",
      "Epoch 57/100\n",
      "23/23 - 0s - 8ms/step - loss: 17.3817 - val_loss: 219.4274\n",
      "Epoch 58/100\n",
      "23/23 - 0s - 9ms/step - loss: 17.7279 - val_loss: 205.7611\n",
      "Epoch 59/100\n",
      "23/23 - 0s - 8ms/step - loss: 17.0781 - val_loss: 213.4917\n",
      "Epoch 60/100\n",
      "23/23 - 0s - 8ms/step - loss: 16.4556 - val_loss: 198.7735\n",
      "Epoch 61/100\n",
      "23/23 - 0s - 8ms/step - loss: 16.5763 - val_loss: 205.1180\n",
      "Epoch 62/100\n",
      "23/23 - 0s - 8ms/step - loss: 18.9494 - val_loss: 205.6093\n",
      "Epoch 63/100\n",
      "23/23 - 0s - 8ms/step - loss: 17.0191 - val_loss: 197.2003\n",
      "Epoch 64/100\n",
      "23/23 - 0s - 8ms/step - loss: 17.3503 - val_loss: 178.4274\n",
      "Epoch 65/100\n",
      "23/23 - 0s - 8ms/step - loss: 15.4524 - val_loss: 195.0428\n",
      "Epoch 66/100\n",
      "23/23 - 0s - 8ms/step - loss: 15.8362 - val_loss: 188.9004\n",
      "Epoch 67/100\n",
      "23/23 - 0s - 8ms/step - loss: 15.2977 - val_loss: 195.6996\n",
      "Epoch 68/100\n",
      "23/23 - 0s - 8ms/step - loss: 15.9176 - val_loss: 190.9860\n",
      "Epoch 69/100\n",
      "23/23 - 0s - 7ms/step - loss: 16.9754 - val_loss: 167.9367\n",
      "Epoch 70/100\n",
      "23/23 - 0s - 8ms/step - loss: 16.9663 - val_loss: 186.2332\n",
      "Epoch 71/100\n",
      "23/23 - 0s - 8ms/step - loss: 14.6076 - val_loss: 212.7945\n",
      "Epoch 72/100\n",
      "23/23 - 0s - 8ms/step - loss: 14.9170 - val_loss: 172.8049\n",
      "Epoch 73/100\n",
      "23/23 - 0s - 8ms/step - loss: 17.0286 - val_loss: 191.7624\n",
      "Epoch 74/100\n",
      "23/23 - 0s - 8ms/step - loss: 15.6669 - val_loss: 194.0059\n",
      "Epoch 75/100\n",
      "23/23 - 0s - 8ms/step - loss: 13.9277 - val_loss: 207.5317\n",
      "Epoch 76/100\n",
      "23/23 - 0s - 8ms/step - loss: 13.7760 - val_loss: 184.5851\n",
      "Epoch 77/100\n",
      "23/23 - 0s - 8ms/step - loss: 15.2174 - val_loss: 210.7183\n",
      "Epoch 78/100\n",
      "23/23 - 0s - 8ms/step - loss: 15.1687 - val_loss: 204.2418\n",
      "Epoch 79/100\n",
      "23/23 - 0s - 8ms/step - loss: 15.3685 - val_loss: 208.2332\n",
      "Epoch 80/100\n",
      "23/23 - 0s - 8ms/step - loss: 14.6839 - val_loss: 236.6490\n",
      "Epoch 81/100\n",
      "23/23 - 0s - 7ms/step - loss: 14.2945 - val_loss: 205.5166\n",
      "Epoch 82/100\n",
      "23/23 - 0s - 8ms/step - loss: 13.9887 - val_loss: 205.4500\n",
      "Epoch 83/100\n",
      "23/23 - 0s - 8ms/step - loss: 13.3626 - val_loss: 232.4919\n",
      "Epoch 84/100\n",
      "23/23 - 0s - 8ms/step - loss: 13.6502 - val_loss: 241.9618\n",
      "Epoch 85/100\n",
      "23/23 - 0s - 7ms/step - loss: 14.3331 - val_loss: 190.7758\n",
      "Epoch 86/100\n",
      "23/23 - 0s - 8ms/step - loss: 13.8703 - val_loss: 190.7668\n",
      "Epoch 87/100\n",
      "23/23 - 0s - 8ms/step - loss: 14.0381 - val_loss: 207.7569\n",
      "Epoch 88/100\n",
      "23/23 - 0s - 8ms/step - loss: 12.7869 - val_loss: 213.6837\n",
      "Epoch 89/100\n",
      "23/23 - 0s - 7ms/step - loss: 13.1526 - val_loss: 223.9830\n",
      "Epoch 90/100\n",
      "23/23 - 0s - 8ms/step - loss: 13.3544 - val_loss: 217.5582\n",
      "Epoch 91/100\n",
      "23/23 - 0s - 7ms/step - loss: 12.7874 - val_loss: 240.0224\n",
      "Epoch 92/100\n",
      "23/23 - 0s - 7ms/step - loss: 13.2184 - val_loss: 201.0195\n",
      "Epoch 93/100\n",
      "23/23 - 0s - 8ms/step - loss: 12.8428 - val_loss: 211.7236\n",
      "Epoch 94/100\n",
      "23/23 - 0s - 8ms/step - loss: 13.3899 - val_loss: 213.9235\n",
      "Epoch 95/100\n",
      "23/23 - 0s - 8ms/step - loss: 12.7158 - val_loss: 214.8005\n",
      "Epoch 96/100\n",
      "23/23 - 0s - 7ms/step - loss: 12.1095 - val_loss: 220.8453\n",
      "Epoch 97/100\n",
      "23/23 - 0s - 8ms/step - loss: 11.9391 - val_loss: 238.9952\n",
      "Epoch 98/100\n",
      "23/23 - 0s - 7ms/step - loss: 11.9097 - val_loss: 213.6161\n",
      "Epoch 99/100\n",
      "23/23 - 0s - 9ms/step - loss: 12.5228 - val_loss: 220.4228\n",
      "Epoch 100/100\n",
      "23/23 - 0s - 8ms/step - loss: 14.7110 - val_loss: 204.1134\n"
     ]
    },
    {
     "data": {
      "text/plain": [
       "<keras.src.callbacks.history.History at 0x7bbf7c36cb90>"
      ]
     },
     "execution_count": 23,
     "metadata": {},
     "output_type": "execute_result"
    }
   ],
   "source": [
    "# build the model\n",
    "model = regression_model()\n",
    "# fit the model\n",
    "model.fit(predictors_norm, target, validation_split=0.3, epochs=100, verbose=2)"
   ]
  },
  {
   "cell_type": "markdown",
   "metadata": {},
   "source": [
    "Double-click <b>here</b> for the solution.\n",
    "\n",
    "<!-- Your answer is below:\n",
    "def regression_model():\n",
    "    input_colm = predictors_norm.shape[1] # Number of input features\n",
    "    # create model\n",
    "    model = Sequential()\n",
    "    model.add(Input(shape=(input_colm,)))  # Set the number of input features \n",
    "    model.add(Dense(50, activation='relu'))  \n",
    "    model.add(Dense(50, activation='relu'))\n",
    "    model.add(Dense(50, activation='relu')) \n",
    "    model.add(Dense(50, activation='relu'))\n",
    "    model.add(Dense(50, activation='relu'))  \n",
    "    model.add(Dense(1))  # Output layer\n",
    "    \n",
    "    # compile model\n",
    "    model.compile(optimizer='adam', loss='mean_squared_error')\n",
    "    return model\n",
    "\n",
    "-->\n"
   ]
  },
  {
   "cell_type": "markdown",
   "metadata": {},
   "source": [
    "<h3>Practice Exercise 2</h3>\n"
   ]
  },
  {
   "cell_type": "markdown",
   "metadata": {},
   "source": [
    " Train and evaluate the model simultaneously using the fit() method by reserving 10% of the data for validation and training the model for 100 epochs\n"
   ]
  },
  {
   "cell_type": "code",
   "execution_count": null,
   "metadata": {},
   "outputs": [
    {
     "name": "stdout",
     "output_type": "stream",
     "text": [
      "Epoch 1/100\n",
      "29/29 - 3s - 105ms/step - loss: 1474.4702 - val_loss: 844.4640\n",
      "Epoch 2/100\n",
      "29/29 - 0s - 8ms/step - loss: 555.2918 - val_loss: 221.3926\n",
      "Epoch 3/100\n",
      "29/29 - 0s - 9ms/step - loss: 237.6287 - val_loss: 215.7363\n",
      "Epoch 4/100\n",
      "29/29 - 0s - 7ms/step - loss: 205.1851 - val_loss: 188.1245\n",
      "Epoch 5/100\n",
      "29/29 - 0s - 7ms/step - loss: 187.3497 - val_loss: 185.6686\n",
      "Epoch 6/100\n",
      "29/29 - 0s - 7ms/step - loss: 172.6726 - val_loss: 171.7143\n",
      "Epoch 7/100\n",
      "29/29 - 0s - 7ms/step - loss: 159.5831 - val_loss: 157.2766\n",
      "Epoch 8/100\n",
      "29/29 - 0s - 7ms/step - loss: 145.9348 - val_loss: 147.7273\n",
      "Epoch 9/100\n",
      "29/29 - 0s - 7ms/step - loss: 137.4450 - val_loss: 139.0055\n",
      "Epoch 10/100\n",
      "29/29 - 0s - 6ms/step - loss: 117.7539 - val_loss: 127.1182\n",
      "Epoch 11/100\n",
      "29/29 - 0s - 7ms/step - loss: 103.7020 - val_loss: 116.2525\n",
      "Epoch 12/100\n",
      "29/29 - 0s - 7ms/step - loss: 91.9114 - val_loss: 112.1417\n",
      "Epoch 13/100\n",
      "29/29 - 0s - 7ms/step - loss: 78.7738 - val_loss: 95.5353\n",
      "Epoch 14/100\n",
      "29/29 - 0s - 7ms/step - loss: 68.9870 - val_loss: 81.8858\n",
      "Epoch 15/100\n",
      "29/29 - 0s - 7ms/step - loss: 62.8497 - val_loss: 77.4277\n",
      "Epoch 16/100\n",
      "29/29 - 0s - 7ms/step - loss: 54.6418 - val_loss: 68.5569\n",
      "Epoch 17/100\n",
      "29/29 - 0s - 7ms/step - loss: 50.6738 - val_loss: 55.3302\n",
      "Epoch 18/100\n",
      "29/29 - 0s - 7ms/step - loss: 47.3612 - val_loss: 53.9920\n",
      "Epoch 19/100\n",
      "29/29 - 0s - 7ms/step - loss: 44.2028 - val_loss: 45.0290\n",
      "Epoch 20/100\n",
      "29/29 - 0s - 7ms/step - loss: 41.1242 - val_loss: 45.0023\n",
      "Epoch 21/100\n",
      "29/29 - 0s - 7ms/step - loss: 38.3602 - val_loss: 38.9984\n",
      "Epoch 22/100\n",
      "29/29 - 0s - 7ms/step - loss: 36.6938 - val_loss: 37.4345\n",
      "Epoch 23/100\n",
      "29/29 - 0s - 7ms/step - loss: 35.1213 - val_loss: 38.5227\n",
      "Epoch 24/100\n",
      "29/29 - 0s - 7ms/step - loss: 32.6017 - val_loss: 39.8249\n",
      "Epoch 25/100\n",
      "29/29 - 0s - 6ms/step - loss: 31.7256 - val_loss: 32.8357\n",
      "Epoch 26/100\n",
      "29/29 - 0s - 7ms/step - loss: 32.2608 - val_loss: 36.5534\n",
      "Epoch 27/100\n",
      "29/29 - 0s - 7ms/step - loss: 30.5877 - val_loss: 37.4432\n",
      "Epoch 28/100\n",
      "29/29 - 0s - 7ms/step - loss: 29.4454 - val_loss: 31.1388\n",
      "Epoch 29/100\n",
      "29/29 - 0s - 6ms/step - loss: 28.7432 - val_loss: 28.6703\n",
      "Epoch 30/100\n",
      "29/29 - 0s - 6ms/step - loss: 27.9273 - val_loss: 28.8217\n",
      "Epoch 31/100\n",
      "29/29 - 0s - 7ms/step - loss: 26.9457 - val_loss: 34.5943\n",
      "Epoch 32/100\n",
      "29/29 - 0s - 7ms/step - loss: 26.4932 - val_loss: 35.1912\n",
      "Epoch 33/100\n",
      "29/29 - 0s - 7ms/step - loss: 26.7735 - val_loss: 26.0452\n",
      "Epoch 34/100\n",
      "29/29 - 0s - 7ms/step - loss: 25.5377 - val_loss: 30.1057\n",
      "Epoch 35/100\n",
      "29/29 - 0s - 7ms/step - loss: 24.6818 - val_loss: 26.7431\n",
      "Epoch 36/100\n",
      "29/29 - 0s - 7ms/step - loss: 25.0365 - val_loss: 32.4353\n",
      "Epoch 37/100\n",
      "29/29 - 0s - 6ms/step - loss: 24.7093 - val_loss: 30.4518\n",
      "Epoch 38/100\n"
     ]
    }
   ],
   "source": [
    "model = regression_model()\n",
    "model.fit(predictors_norm, target, validation_split=0.1, epochs=100, verbose=2)"
   ]
  },
  {
   "cell_type": "markdown",
   "metadata": {},
   "source": [
    "Double-click <b>here</b> for the solution.\n",
    "\n",
    "<!-- Your answer is below:\n",
    "# build the model\n",
    "model = regression_model()\n",
    "model.fit(predictors_norm, target, validation_split=0.1, epochs=100, verbose=2)\n",
    "\n",
    "-->\n"
   ]
  },
  {
   "cell_type": "markdown",
   "metadata": {},
   "source": [
    "Based on the results, we notice that:\n",
    "\n",
    "- Adding more hidden layers to the model increases its capacity to learn and represent complex relationships within the data. This allows the model to better identify, as a result, the model becomes more effective at fitting the training data and potentially improving its predictions.\n",
    "- By reducing the proportion of data set aside for validation and using a larger portion for training, the model has access to more examples to learn from. This additional training data helps the model improve its understanding of the underlying trends, which can lead to better overall performance.  \n"
   ]
  },
  {
   "cell_type": "markdown",
   "metadata": {},
   "source": [
    "### Thank you for completing this lab!\n",
    "\n",
    "This notebook was created by [Alex Aklson](https://www.linkedin.com/in/aklson/). I hope you found this lab interesting and educational. Feel free to contact me if you have any questions!\n"
   ]
  },
  {
   "cell_type": "markdown",
   "metadata": {},
   "source": [
    "<!--\n",
    "## Change Log\n",
    "\n",
    "|  Date (YYYY-MM-DD) |  Version | Changed By  |  Change Description |\n",
    "|---|---|---|---|\n",
    "| 2024-11-20  | 3.0  | Aman  |  Updated the library versions to current |\n",
    "| 2020-09-21  | 2.0  | Srishti  |  Migrated Lab to Markdown and added to course repo in GitLab |\n",
    "\n",
    "\n",
    "\n",
    "<hr>\n",
    "\n",
    "## <h3 align=\"center\"> © IBM Corporation. All rights reserved. <h3/>\n"
   ]
  },
  {
   "cell_type": "markdown",
   "metadata": {},
   "source": [
    "## <h3 align=\"center\"> &#169; IBM Corporation. All rights reserved. <h3/>\n",
    "\n"
   ]
  }
 ],
 "metadata": {
  "kernelspec": {
   "display_name": "Python 3 (ipykernel)",
   "language": "python",
   "name": "python3"
  },
  "language_info": {
   "codemirror_mode": {
    "name": "ipython",
    "version": 3
   },
   "file_extension": ".py",
   "mimetype": "text/x-python",
   "name": "python",
   "nbconvert_exporter": "python",
   "pygments_lexer": "ipython3",
   "version": "3.12.8"
  },
  "prev_pub_hash": "1318243f5c57a871ada11a63a887b187b71b9e224c59cc45cb9fac7ca19844fc"
 },
 "nbformat": 4,
 "nbformat_minor": 4
}
